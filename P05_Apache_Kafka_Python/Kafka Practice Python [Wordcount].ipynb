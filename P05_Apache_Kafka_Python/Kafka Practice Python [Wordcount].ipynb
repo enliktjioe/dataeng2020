{
 "cells": [
  {
   "cell_type": "markdown",
   "metadata": {},
   "source": [
    "# Wordcount using Kafka"
   ]
  },
  {
   "cell_type": "markdown",
   "metadata": {},
   "source": [
    "![](https://camo.githubusercontent.com/56166d361c3975dee750ecce16d605bbbf66516b/68747470733a2f2f75706c6f61642e77696b696d656469612e6f72672f77696b6970656469612f636f6d6d6f6e732f352f35332f4170616368655f6b61666b615f776f7264747970652e737667)"
   ]
  },
  {
   "cell_type": "code",
   "execution_count": 16,
   "metadata": {},
   "outputs": [],
   "source": [
    "from confluent_kafka import SerializingProducer, DeserializingConsumer\n",
    "from confluent_kafka.serialization import StringSerializer, StringDeserializer\n",
    "from confluent_kafka.admin import AdminClient, NewTopic\n",
    "from uuid import uuid4\n",
    "import sys, lorem, random\n",
    "\n",
    "brokers = \"kafka1:9092,kafka2:9093\"\n",
    "topics = [\"sentences1\", \"words\", \"lengths\"]"
   ]
  },
  {
   "cell_type": "code",
   "execution_count": 17,
   "metadata": {},
   "outputs": [],
   "source": [
    "new_topics = [NewTopic(topic, num_partitions=2, replication_factor=1) for topic in topics]"
   ]
  },
  {
   "cell_type": "code",
   "execution_count": 18,
   "metadata": {},
   "outputs": [
    {
     "data": {
      "text/plain": [
       "{'sentences1': <Future at 0x7fc0d451e9a0 state=running>,\n",
       " 'words': <Future at 0x7fc0d425fac0 state=running>,\n",
       " 'lengths': <Future at 0x7fc0d425fa00 state=running>}"
      ]
     },
     "execution_count": 18,
     "metadata": {},
     "output_type": "execute_result"
    }
   ],
   "source": [
    "a = AdminClient({'bootstrap.servers': brokers})\n",
    "a.create_topics(new_topics)"
   ]
  },
  {
   "cell_type": "markdown",
   "metadata": {},
   "source": [
    "## Producing Sentences"
   ]
  },
  {
   "cell_type": "markdown",
   "metadata": {},
   "source": [
    "Non amet porro labore neque.\n",
    "Amet adipisci dolore amet aliquam amet consectetur.\n",
    "Neque ut neque porro non.\n",
    "Quiquia dolore magnam eius.\n",
    "Dolorem quiquia etincidunt magnam non.\n",
    "Modi quiquia neque adipisci.\n",
    "Ipsum modi ut neque.\n",
    "Velit est velit est neque quiquia.\n",
    "Neque dolorem velit amet quisquam quisquam.\n",
    "Tempora etincidunt non quiquia magnam dolor dolore.\n",
    "Sed amet dolore ipsum voluptatem.\n",
    "Est neque quaerat aliquam eius."
   ]
  },
  {
   "cell_type": "code",
   "execution_count": 19,
   "metadata": {},
   "outputs": [],
   "source": [
    "pconf = {\n",
    "    'bootstrap.servers': brokers,\n",
    "    'partitioner': 'murmur2_random',\n",
    "    'key.serializer': StringSerializer('utf_8'),\n",
    "    'value.serializer': StringSerializer('utf_8')\n",
    "}"
   ]
  },
  {
   "cell_type": "code",
   "execution_count": 20,
   "metadata": {},
   "outputs": [],
   "source": [
    "p = SerializingProducer(pconf)"
   ]
  },
  {
   "cell_type": "code",
   "execution_count": 21,
   "metadata": {},
   "outputs": [
    {
     "name": "stdout",
     "output_type": "stream",
     "text": [
      "Neque modi est modi neque.\n",
      "Voluptatem ipsum quiquia voluptatem adipisci.\n",
      "Etincidunt porro dolorem dolore magnam.\n",
      "Voluptatem dolor etincidunt sed etincidunt neque porro.\n",
      "Sed numquam ut dolorem labore eius modi est.\n",
      "Tempora quiquia sit voluptatem sed.\n",
      "Dolor adipisci sed adipisci quiquia neque consectetur.\n",
      "Tempora voluptatem quaerat labore numquam ipsum eius neque.\n",
      "Adipisci magnam sit modi ut ut ipsum.\n",
      "Tempora porro porro quaerat sed amet.\n",
      "Ipsum modi quiquia quaerat numquam etincidunt neque ut.\n",
      "Aliquam quiquia ut consectetur quiquia modi eius.\n",
      "Numquam magnam neque non etincidunt.\n",
      "Sit magnam dolor quaerat non dolore consectetur modi.\n",
      "Ut porro tempora neque magnam.\n",
      "Modi est sit quaerat ipsum.\n",
      "Adipisci magnam quisquam numquam ut dolor voluptatem numquam.\n",
      "Magnam labore aliquam aliquam.\n",
      "Ipsum sit tempora modi non etincidunt consectetur.\n",
      "Quaerat ipsum ut ipsum quiquia magnam non est.\n",
      "Sit dolorem aliquam consectetur amet magnam.\n",
      "Modi labore tempora consectetur quisquam non non.\n",
      "Voluptatem modi aliquam porro sed.\n",
      "Sed neque adipisci numquam neque voluptatem.\n",
      "Labore adipisci ut amet.\n",
      "Porro velit quiquia magnam sed velit.\n",
      "Magnam quaerat sed neque adipisci quiquia est quiquia.\n",
      "Sed quiquia numquam velit.\n",
      "Voluptatem ipsum dolor ut dolor modi tempora consectetur.\n",
      "Etincidunt voluptatem modi labore aliquam ut dolorem.\n",
      "Voluptatem quiquia modi consectetur ipsum velit eius quiquia.\n",
      "Sit neque eius tempora modi numquam dolor quaerat.\n",
      "Quaerat tempora modi quiquia non ipsum adipisci.\n",
      "Sed sit est porro.\n",
      "Numquam non magnam amet dolorem.\n",
      "Adipisci adipisci quaerat porro neque porro.\n",
      "Voluptatem magnam sit non velit quaerat tempora.\n",
      "Neque sit modi eius.\n",
      "Eius sit velit quiquia voluptatem amet.\n",
      "Sed est velit adipisci quisquam.\n",
      "Porro ipsum dolorem voluptatem eius magnam.\n",
      "Consectetur velit voluptatem numquam aliquam ut magnam dolor.\n",
      "Porro velit labore voluptatem dolorem labore.\n",
      "Neque sit aliquam neque adipisci velit non.\n",
      "Aliquam quaerat quaerat adipisci numquam dolorem sit.\n",
      "Quisquam modi dolorem quaerat adipisci eius.\n",
      "Neque quaerat quiquia voluptatem dolor.\n",
      "Aliquam non etincidunt quaerat.\n",
      "Magnam sed porro eius.\n",
      "Aliquam tempora porro voluptatem magnam sit eius sed.\n",
      "Tempora modi velit adipisci numquam est labore consectetur.\n",
      "Quaerat velit ut ipsum dolore voluptatem velit amet.\n",
      "Quaerat ipsum numquam porro quaerat tempora modi.\n",
      "Voluptatem ut non magnam.\n",
      "Amet quiquia porro voluptatem porro ipsum consectetur.\n",
      "Porro neque ipsum porro dolorem ipsum neque neque.\n",
      "Tempora etincidunt quiquia numquam quiquia quaerat.\n",
      "Dolorem tempora numquam quaerat quaerat velit consectetur sed.\n",
      "Sed eius est sit labore dolorem.\n",
      "Ipsum dolorem consectetur adipisci neque tempora neque.\n",
      "Quisquam modi velit magnam.\n",
      "Quisquam est quaerat dolorem aliquam modi magnam est.\n",
      "Ipsum adipisci eius modi dolorem.\n",
      "Sit magnam neque numquam.\n",
      "Sed porro numquam dolore.\n",
      "Quaerat quaerat eius magnam quisquam est.\n",
      "Velit eius adipisci non.\n",
      "Sit labore dolor consectetur modi sed est adipisci.\n",
      "Ut est dolore porro numquam.\n",
      "Ut ipsum modi eius.\n",
      "Consectetur etincidunt neque neque quisquam voluptatem.\n",
      "Sed voluptatem voluptatem quisquam magnam consectetur dolore dolore.\n",
      "Dolor dolor velit modi neque.\n",
      "Adipisci amet quiquia voluptatem.\n",
      "Velit neque tempora eius velit dolore quisquam.\n",
      "Est dolor ut velit ut quisquam velit.\n",
      "Ipsum ipsum modi ut modi dolor.\n",
      "Ut tempora dolore magnam consectetur velit dolorem.\n",
      "Modi numquam consectetur porro non tempora sed est.\n",
      "Aliquam aliquam neque modi.\n",
      "Velit magnam dolor velit dolorem tempora.\n",
      "Voluptatem adipisci modi tempora quisquam velit.\n",
      "Non velit aliquam numquam non non.\n",
      "Neque quiquia tempora porro modi ipsum voluptatem neque.\n",
      "Ipsum dolorem amet quisquam consectetur dolorem.\n",
      "Consectetur neque ut sed numquam magnam dolor dolorem.\n",
      "Magnam adipisci dolor velit quaerat dolore.\n",
      "Numquam numquam ipsum quaerat modi etincidunt numquam.\n",
      "Adipisci dolorem neque adipisci eius.\n",
      "Consectetur tempora dolorem etincidunt aliquam porro neque.\n",
      "Quiquia quiquia quaerat aliquam labore adipisci adipisci.\n",
      "Sit labore consectetur magnam.\n",
      "Adipisci modi etincidunt ut eius eius etincidunt est.\n",
      "Tempora ut tempora voluptatem modi dolor eius quisquam.\n",
      "Sit aliquam dolore velit porro neque dolorem.\n",
      "Neque dolor ut etincidunt labore etincidunt est voluptatem.\n",
      "Dolor voluptatem magnam adipisci adipisci adipisci neque.\n",
      "Dolorem adipisci amet dolore quiquia.\n",
      "Sed dolor neque quaerat quiquia amet dolor.\n"
     ]
    }
   ],
   "source": [
    "for n in range(1,100):\n",
    "    try:\n",
    "        # Produce line (without newline)\n",
    "        line = lorem.sentence()\n",
    "        p.produce(topics[0], key=str(uuid4()), value=line)\n",
    "        p.poll(0)\n",
    "        p.flush()\n",
    "        print(line)\n",
    "    except BufferError:\n",
    "        sys.stderr.write('%% Local producer queue is full (%d messages awaiting delivery): try again\\n' % len(p))"
   ]
  },
  {
   "cell_type": "markdown",
   "metadata": {},
   "source": [
    "## Consuming Sentences"
   ]
  },
  {
   "cell_type": "code",
   "execution_count": 22,
   "metadata": {},
   "outputs": [],
   "source": [
    "string_deserializer = StringDeserializer('utf_8')"
   ]
  },
  {
   "cell_type": "code",
   "execution_count": 23,
   "metadata": {},
   "outputs": [],
   "source": [
    "consumer_conf = {\n",
    "    'bootstrap.servers': brokers,\n",
    "    'key.deserializer': string_deserializer,\n",
    "    'value.deserializer': string_deserializer,\n",
    "    'group.id': str(uuid4()),\n",
    "    'session.timeout.ms': 6000,\n",
    "    'auto.offset.reset': 'earliest'\n",
    "}"
   ]
  },
  {
   "cell_type": "code",
   "execution_count": 24,
   "metadata": {},
   "outputs": [],
   "source": [
    "c = DeserializingConsumer(consumer_conf)\n",
    "c.subscribe([topics[0]])"
   ]
  },
  {
   "cell_type": "code",
   "execution_count": 25,
   "metadata": {},
   "outputs": [
    {
     "name": "stdout",
     "output_type": "stream",
     "text": [
      "sentences1 [1] at offset  0 with key  f4396aaa-30e6-4e8b-b826-ee8a4a4c2d3c:  Voluptatem ipsum quiquia voluptatem adipisci.\n",
      "sentences1 [1] at offset  1 with key  eb08ecba-8894-4e3c-832a-856ec0306cbb:  Etincidunt porro dolorem dolore magnam.\n",
      "sentences1 [1] at offset  2 with key  ac8e70b1-64b4-4d1e-8561-c7711d6a349c:  Voluptatem dolor etincidunt sed etincidunt neque porro.\n",
      "sentences1 [1] at offset  3 with key  158297da-a604-45f2-9b68-4d6963b437b3:  Sed numquam ut dolorem labore eius modi est.\n",
      "sentences1 [1] at offset  4 with key  fe3ca354-6e71-49d1-b053-f4cda577d7ea:  Tempora quiquia sit voluptatem sed.\n",
      "sentences1 [1] at offset  5 with key  4f547586-77f9-44a7-8179-8176b7be43f6:  Tempora voluptatem quaerat labore numquam ipsum eius neque.\n",
      "sentences1 [1] at offset  6 with key  6dafd5c9-3e6b-4166-969e-6c3b4448ea3e:  Adipisci magnam sit modi ut ut ipsum.\n",
      "sentences1 [1] at offset  7 with key  0be3784e-63d4-4e76-b785-0b7de1be85fd:  Tempora porro porro quaerat sed amet.\n",
      "sentences1 [1] at offset  8 with key  9912cb43-92b1-44bd-b6b7-8a6ff96450e4:  Aliquam quiquia ut consectetur quiquia modi eius.\n",
      "sentences1 [1] at offset  9 with key  6bf25246-8b71-4764-bb46-35878d9da161:  Sit magnam dolor quaerat non dolore consectetur modi.\n",
      "sentences1 [1] at offset  10 with key  26e3b385-6b83-4468-ae72-1f104a562b12:  Ut porro tempora neque magnam.\n",
      "sentences1 [1] at offset  11 with key  b67c7a2b-d19a-48a4-9f04-adb175f89b55:  Magnam labore aliquam aliquam.\n",
      "sentences1 [1] at offset  12 with key  99b0aa23-8389-40c8-8e69-184148756b2c:  Quaerat ipsum ut ipsum quiquia magnam non est.\n",
      "sentences1 [1] at offset  13 with key  c15f9509-b7e7-44f5-97a0-75ab4577c02c:  Modi labore tempora consectetur quisquam non non.\n",
      "sentences1 [1] at offset  14 with key  a9bdc257-8216-4849-8861-b6eac4e4d740:  Voluptatem modi aliquam porro sed.\n",
      "sentences1 [1] at offset  15 with key  5ab75ebd-a0e7-4c12-b214-0ea47b4cb8d2:  Labore adipisci ut amet.\n",
      "sentences1 [1] at offset  16 with key  b3ef80cd-7c26-48dd-93f8-ec7b0cca3a7c:  Sed quiquia numquam velit.\n",
      "sentences1 [1] at offset  17 with key  0930e190-e146-408f-8f30-74f22590a796:  Etincidunt voluptatem modi labore aliquam ut dolorem.\n",
      "sentences1 [1] at offset  18 with key  4536419b-d8a5-4968-a510-236c3e5f52fc:  Quaerat tempora modi quiquia non ipsum adipisci.\n",
      "sentences1 [1] at offset  19 with key  bc76cc5c-e604-4b1b-bdaf-0728aa781f45:  Adipisci adipisci quaerat porro neque porro.\n",
      "sentences1 [1] at offset  20 with key  70b1190f-2149-436f-baee-9102bbb674da:  Voluptatem magnam sit non velit quaerat tempora.\n",
      "sentences1 [1] at offset  21 with key  d4d1569f-eda4-457e-98e5-3e26d605f559:  Neque sit modi eius.\n",
      "sentences1 [1] at offset  22 with key  30b09a4a-1901-4f25-89d7-ea4f734c4d6a:  Sed est velit adipisci quisquam.\n",
      "sentences1 [1] at offset  23 with key  15dfad56-f024-4439-9055-763ec01aab05:  Consectetur velit voluptatem numquam aliquam ut magnam dolor.\n",
      "sentences1 [1] at offset  24 with key  fa9704f5-b718-456f-a89a-a162330e7865:  Porro velit labore voluptatem dolorem labore.\n",
      "sentences1 [1] at offset  25 with key  293ebf1a-ba54-4623-8210-1bab181a745b:  Neque sit aliquam neque adipisci velit non.\n",
      "sentences1 [1] at offset  26 with key  fd7e5c58-5af0-4411-831d-ef4dcd3fff5e:  Aliquam quaerat quaerat adipisci numquam dolorem sit.\n",
      "sentences1 [1] at offset  27 with key  c34f2a3b-db00-4dad-94ef-993d0f0a4cdd:  Quisquam modi dolorem quaerat adipisci eius.\n",
      "sentences1 [1] at offset  28 with key  f8a59637-c4d9-4d5f-aadc-c20d6470e476:  Quaerat velit ut ipsum dolore voluptatem velit amet.\n",
      "sentences1 [1] at offset  29 with key  cb3ef4bf-45a4-4435-b44f-9da9b04e70ba:  Voluptatem ut non magnam.\n",
      "sentences1 [1] at offset  30 with key  d45b8e11-5925-43f3-80b5-3426dfa65d45:  Amet quiquia porro voluptatem porro ipsum consectetur.\n",
      "sentences1 [1] at offset  31 with key  24812ec1-8c2d-4a84-8f67-5d36e7849b5e:  Tempora etincidunt quiquia numquam quiquia quaerat.\n",
      "sentences1 [1] at offset  32 with key  ea337b86-7ead-49b3-a3e2-ab0cc72611fd:  Sed eius est sit labore dolorem.\n",
      "sentences1 [1] at offset  33 with key  2b49eded-42d1-4d40-9d70-72c7bd2f5e10:  Quisquam modi velit magnam.\n",
      "sentences1 [1] at offset  34 with key  cf872ef0-08fb-431e-b9ee-1155579c19fc:  Ipsum adipisci eius modi dolorem.\n",
      "sentences1 [1] at offset  35 with key  767b5245-b613-4cee-bce7-531bcd05a4f8:  Sed porro numquam dolore.\n",
      "sentences1 [1] at offset  36 with key  fa7a7f33-b525-4080-9fef-ed26134da6ec:  Quaerat quaerat eius magnam quisquam est.\n",
      "sentences1 [1] at offset  37 with key  5b476e16-8405-4b83-b43c-720064cb88ed:  Sit labore dolor consectetur modi sed est adipisci.\n",
      "sentences1 [1] at offset  38 with key  acf8b94b-f228-4c31-a1a3-a50e173d3643:  Ut est dolore porro numquam.\n",
      "sentences1 [1] at offset  39 with key  644fd859-6783-4385-be38-663acf1351cc:  Ut ipsum modi eius.\n",
      "sentences1 [1] at offset  40 with key  f2d50ded-2174-480c-a0b7-2c5902cb4b87:  Consectetur etincidunt neque neque quisquam voluptatem.\n",
      "sentences1 [1] at offset  41 with key  d69d1ee4-d0c2-4c5e-8b32-635c19b6d4f2:  Dolor dolor velit modi neque.\n",
      "sentences1 [1] at offset  42 with key  6d02a4d0-83b1-4f77-9435-49c7952643bf:  Adipisci amet quiquia voluptatem.\n",
      "sentences1 [1] at offset  43 with key  a8b862fc-e3f0-4fac-847c-5da04bed65e3:  Velit neque tempora eius velit dolore quisquam.\n",
      "sentences1 [1] at offset  44 with key  1348b638-0557-46f9-9dad-2a426145e7c8:  Est dolor ut velit ut quisquam velit.\n",
      "sentences1 [1] at offset  45 with key  2755506c-332d-4702-951e-692db5eb3538:  Ipsum ipsum modi ut modi dolor.\n",
      "sentences1 [1] at offset  46 with key  524eb44e-4f4b-4e9b-9080-deb717074996:  Ut tempora dolore magnam consectetur velit dolorem.\n",
      "sentences1 [1] at offset  47 with key  ede5153c-9b4b-46ae-a465-7e1faa13ac18:  Modi numquam consectetur porro non tempora sed est.\n",
      "sentences1 [1] at offset  48 with key  61b2901c-a66e-4315-9b0a-c18a5310c0bc:  Velit magnam dolor velit dolorem tempora.\n",
      "sentences1 [1] at offset  49 with key  519ea254-7783-44d2-9e5f-b7016bee6b90:  Non velit aliquam numquam non non.\n",
      "sentences1 [1] at offset  50 with key  17755a55-dc20-435c-8e4d-eb0355ecc60a:  Neque quiquia tempora porro modi ipsum voluptatem neque.\n",
      "sentences1 [1] at offset  51 with key  d917eaa4-24b2-4992-bb50-de365f296048:  Ipsum dolorem amet quisquam consectetur dolorem.\n",
      "sentences1 [1] at offset  52 with key  d7781aba-b865-4342-8a81-92c9becfd560:  Consectetur neque ut sed numquam magnam dolor dolorem.\n",
      "sentences1 [1] at offset  53 with key  a135c3f4-de10-4472-a0a1-8e2f1709da62:  Magnam adipisci dolor velit quaerat dolore.\n",
      "sentences1 [1] at offset  54 with key  7af77520-3db5-4e60-a029-d4b9b6dca516:  Adipisci dolorem neque adipisci eius.\n",
      "sentences1 [1] at offset  55 with key  c73851a0-4135-45f5-b922-fd29e8dfd1c4:  Quiquia quiquia quaerat aliquam labore adipisci adipisci.\n",
      "sentences1 [1] at offset  56 with key  be8043a3-d990-42c2-9a02-0831ab5efdeb:  Adipisci modi etincidunt ut eius eius etincidunt est.\n",
      "sentences1 [1] at offset  57 with key  11a00b77-0d35-4ebe-a7b7-384c923770fb:  Tempora ut tempora voluptatem modi dolor eius quisquam.\n",
      "sentences1 [1] at offset  58 with key  89044263-61ea-4103-a808-a339bc458c20:  Dolor voluptatem magnam adipisci adipisci adipisci neque.\n",
      "sentences1 [0] at offset  0 with key  c7a649ea-fa5d-4c89-92d1-46b370f92278:  Neque modi est modi neque.\n",
      "sentences1 [0] at offset  1 with key  0f099505-7a0c-4b1e-b7a1-76a665c32c44:  Dolor adipisci sed adipisci quiquia neque consectetur.\n",
      "sentences1 [0] at offset  2 with key  1425902c-2cb9-4497-aa83-490da7e872e4:  Ipsum modi quiquia quaerat numquam etincidunt neque ut.\n",
      "sentences1 [0] at offset  3 with key  dcedfdce-4fb7-4202-b37d-6bf58d299ec8:  Numquam magnam neque non etincidunt.\n",
      "sentences1 [0] at offset  4 with key  bb874382-72a5-4f78-a7c3-2c0cd27f65c9:  Modi est sit quaerat ipsum.\n",
      "sentences1 [0] at offset  5 with key  ba22cf0a-54de-4875-a9a6-25ad6a749a69:  Adipisci magnam quisquam numquam ut dolor voluptatem numquam.\n",
      "sentences1 [0] at offset  6 with key  da6fa114-a991-491d-9f24-4c65f475f75b:  Ipsum sit tempora modi non etincidunt consectetur.\n",
      "sentences1 [0] at offset  7 with key  37847a81-ef61-4844-884d-b1ac9ca1e85b:  Sit dolorem aliquam consectetur amet magnam.\n",
      "sentences1 [0] at offset  8 with key  4ccf2286-35ad-48e0-8a85-ce58d573b7a4:  Sed neque adipisci numquam neque voluptatem.\n",
      "sentences1 [0] at offset  9 with key  5ff20230-674d-4dda-ac95-bfea9d34b6b5:  Porro velit quiquia magnam sed velit.\n",
      "sentences1 [0] at offset  10 with key  66174b7c-e81a-4cf7-a6fd-68be0d760248:  Magnam quaerat sed neque adipisci quiquia est quiquia.\n",
      "sentences1 [0] at offset  11 with key  ebd43613-c50d-487e-a79b-e50872581442:  Voluptatem ipsum dolor ut dolor modi tempora consectetur.\n",
      "sentences1 [0] at offset  12 with key  04c33111-213b-41f5-81b6-cb8418adf9ae:  Voluptatem quiquia modi consectetur ipsum velit eius quiquia.\n",
      "sentences1 [0] at offset  13 with key  c8ae46d9-b970-4c3b-90a5-a4a667c6ab95:  Sit neque eius tempora modi numquam dolor quaerat.\n",
      "sentences1 [0] at offset  14 with key  30f2c420-33bc-46f3-8e06-ebca998a1bdb:  Sed sit est porro.\n",
      "sentences1 [0] at offset  15 with key  45c7ed1a-b26b-445f-a537-389ec557ea1a:  Numquam non magnam amet dolorem.\n",
      "sentences1 [0] at offset  16 with key  76d185cd-a0be-4b56-a9e2-17a7718414f3:  Eius sit velit quiquia voluptatem amet.\n",
      "sentences1 [0] at offset  17 with key  dbb82ddc-5289-4dbb-aff6-09a7f92c5aec:  Porro ipsum dolorem voluptatem eius magnam.\n",
      "sentences1 [0] at offset  18 with key  e44ae162-22bf-4444-858e-6cf29397c847:  Neque quaerat quiquia voluptatem dolor.\n",
      "sentences1 [0] at offset  19 with key  c8a96508-3478-49f3-98d1-803fd2e52fcc:  Aliquam non etincidunt quaerat.\n",
      "sentences1 [0] at offset  20 with key  905584dd-257a-4615-9e52-d90f420d079c:  Magnam sed porro eius.\n",
      "sentences1 [0] at offset  21 with key  f7a9da19-b576-4d5a-abbf-9c161cd6a48e:  Aliquam tempora porro voluptatem magnam sit eius sed.\n",
      "sentences1 [0] at offset  22 with key  cd05d45b-1941-4ce3-96d4-6864a2d9da03:  Tempora modi velit adipisci numquam est labore consectetur.\n",
      "sentences1 [0] at offset  23 with key  e3a13cda-84c8-4a1a-acb4-39f41a470852:  Quaerat ipsum numquam porro quaerat tempora modi.\n",
      "sentences1 [0] at offset  24 with key  47c34af9-c2d2-4149-b0d1-74e8520ac4a0:  Porro neque ipsum porro dolorem ipsum neque neque.\n",
      "sentences1 [0] at offset  25 with key  4e78a056-283c-499f-95c7-9c90fc9440d6:  Dolorem tempora numquam quaerat quaerat velit consectetur sed.\n",
      "sentences1 [0] at offset  26 with key  034e2afc-15a7-47af-8c88-7aee80a9025b:  Ipsum dolorem consectetur adipisci neque tempora neque.\n",
      "sentences1 [0] at offset  27 with key  9a43b495-6140-4025-8a9c-df348143afd3:  Quisquam est quaerat dolorem aliquam modi magnam est.\n",
      "sentences1 [0] at offset  28 with key  49984d32-54a8-45e3-b720-e2ebc3854fc9:  Sit magnam neque numquam.\n",
      "sentences1 [0] at offset  29 with key  7cbed079-acf9-41d6-a51b-6808cf387441:  Velit eius adipisci non.\n",
      "sentences1 [0] at offset  30 with key  7cda12e5-3d23-4fe8-9d53-d039e91f897e:  Sed voluptatem voluptatem quisquam magnam consectetur dolore dolore.\n",
      "sentences1 [0] at offset  31 with key  edd19d03-cb80-4dd9-9e4f-a33b3c074ff3:  Aliquam aliquam neque modi.\n",
      "sentences1 [0] at offset  32 with key  5a83c231-d9eb-458b-9296-e1a6dcaf6961:  Voluptatem adipisci modi tempora quisquam velit.\n",
      "sentences1 [0] at offset  33 with key  3981aa47-a177-46ff-9f14-6d7ef633ae08:  Numquam numquam ipsum quaerat modi etincidunt numquam.\n",
      "sentences1 [0] at offset  34 with key  bd54fca3-018e-4d8c-8a78-08b245be89a3:  Consectetur tempora dolorem etincidunt aliquam porro neque.\n",
      "sentences1 [0] at offset  35 with key  3a02f745-b48a-4bd5-ae20-5bf4c494097c:  Sit labore consectetur magnam.\n",
      "sentences1 [0] at offset  36 with key  3e326102-3d3f-4d70-b68f-c2e3e077a187:  Sit aliquam dolore velit porro neque dolorem.\n",
      "sentences1 [0] at offset  37 with key  54230fca-8db4-4d86-a5bb-e1e1d1241d44:  Neque dolor ut etincidunt labore etincidunt est voluptatem.\n",
      "sentences1 [0] at offset  38 with key  6bce4d27-1478-4164-8281-38bf825d29ef:  Dolorem adipisci amet dolore quiquia.\n",
      "sentences1 [0] at offset  39 with key  f80c1730-3056-40d1-b18d-09b658ee8a77:  Sed dolor neque quaerat quiquia amet dolor.\n"
     ]
    },
    {
     "name": "stderr",
     "output_type": "stream",
     "text": [
      "%% Aborted by user\n"
     ]
    }
   ],
   "source": [
    "try:\n",
    "    while True:\n",
    "        # SIGINT can't be handled when polling, limit timeout to 1 second.\n",
    "        msg = c.poll(1.0)\n",
    "        if msg is None:\n",
    "            continue\n",
    "        if msg.error():\n",
    "            raise KafkaException(msg.error())\n",
    "        else:\n",
    "            print(\"{} [{}] at offset  {} with key  {}:  {}\".format(msg.topic(), msg.partition(), msg.offset(), str(msg.key()), str(msg.value())))\n",
    "except KeyboardInterrupt:\n",
    "    sys.stderr.write('%% Aborted by user\\n')\n",
    "finally:\n",
    "    # Close down consumer to commit final offsets.\n",
    "    c.close()"
   ]
  },
  {
   "cell_type": "markdown",
   "metadata": {},
   "source": [
    "## Consuming Sentences and Producing Words"
   ]
  },
  {
   "cell_type": "code",
   "execution_count": 22,
   "metadata": {},
   "outputs": [],
   "source": [
    "from confluent_kafka.serialization import IntegerSerializer, IntegerDeserializer\n",
    "\n",
    "consumer_conf['group.id'] = str(uuid4())\n",
    "c2 = DeserializingConsumer(consumer_conf)\n",
    "c2.subscribe([topics[0]])\n",
    "\n",
    "pconf = {\n",
    "    'bootstrap.servers': brokers,\n",
    "    'key.serializer': StringSerializer('utf_8'),\n",
    "    'value.serializer': IntegerSerializer()\n",
    "}\n",
    "\n",
    "\n",
    "p2 = SerializingProducer(pconf)"
   ]
  },
  {
   "cell_type": "code",
   "execution_count": 121,
   "metadata": {},
   "outputs": [
    {
     "ename": "RuntimeError",
     "evalue": "Consumer closed",
     "output_type": "error",
     "traceback": [
      "\u001b[0;31m---------------------------------------------------------------------------\u001b[0m",
      "\u001b[0;31mRuntimeError\u001b[0m                              Traceback (most recent call last)",
      "\u001b[0;32m<ipython-input-121-61d6d2341a74>\u001b[0m in \u001b[0;36m<module>\u001b[0;34m\u001b[0m\n\u001b[1;32m      2\u001b[0m     \u001b[0;32mwhile\u001b[0m \u001b[0;32mTrue\u001b[0m\u001b[0;34m:\u001b[0m\u001b[0;34m\u001b[0m\u001b[0;34m\u001b[0m\u001b[0m\n\u001b[1;32m      3\u001b[0m         \u001b[0;31m# SIGINT can't be handled when polling, limit timeout to 1 second.\u001b[0m\u001b[0;34m\u001b[0m\u001b[0;34m\u001b[0m\u001b[0;34m\u001b[0m\u001b[0m\n\u001b[0;32m----> 4\u001b[0;31m         \u001b[0mmsg\u001b[0m \u001b[0;34m=\u001b[0m \u001b[0mc2\u001b[0m\u001b[0;34m.\u001b[0m\u001b[0mpoll\u001b[0m\u001b[0;34m(\u001b[0m\u001b[0;36m1.0\u001b[0m\u001b[0;34m)\u001b[0m\u001b[0;34m\u001b[0m\u001b[0;34m\u001b[0m\u001b[0m\n\u001b[0m\u001b[1;32m      5\u001b[0m         \u001b[0;32mif\u001b[0m \u001b[0mmsg\u001b[0m \u001b[0;32mis\u001b[0m \u001b[0;32mNone\u001b[0m\u001b[0;34m:\u001b[0m\u001b[0;34m\u001b[0m\u001b[0;34m\u001b[0m\u001b[0m\n\u001b[1;32m      6\u001b[0m             \u001b[0;32mcontinue\u001b[0m\u001b[0;34m\u001b[0m\u001b[0;34m\u001b[0m\u001b[0m\n",
      "\u001b[0;32m/opt/conda/lib/python3.8/site-packages/confluent_kafka/deserializing_consumer.py\u001b[0m in \u001b[0;36mpoll\u001b[0;34m(self, timeout)\u001b[0m\n\u001b[1;32m    123\u001b[0m \u001b[0;34m\u001b[0m\u001b[0m\n\u001b[1;32m    124\u001b[0m         \"\"\"\n\u001b[0;32m--> 125\u001b[0;31m         \u001b[0mmsg\u001b[0m \u001b[0;34m=\u001b[0m \u001b[0msuper\u001b[0m\u001b[0;34m(\u001b[0m\u001b[0mDeserializingConsumer\u001b[0m\u001b[0;34m,\u001b[0m \u001b[0mself\u001b[0m\u001b[0;34m)\u001b[0m\u001b[0;34m.\u001b[0m\u001b[0mpoll\u001b[0m\u001b[0;34m(\u001b[0m\u001b[0mtimeout\u001b[0m\u001b[0;34m)\u001b[0m\u001b[0;34m\u001b[0m\u001b[0;34m\u001b[0m\u001b[0m\n\u001b[0m\u001b[1;32m    126\u001b[0m \u001b[0;34m\u001b[0m\u001b[0m\n\u001b[1;32m    127\u001b[0m         \u001b[0;32mif\u001b[0m \u001b[0mmsg\u001b[0m \u001b[0;32mis\u001b[0m \u001b[0;32mNone\u001b[0m\u001b[0;34m:\u001b[0m\u001b[0;34m\u001b[0m\u001b[0;34m\u001b[0m\u001b[0m\n",
      "\u001b[0;31mRuntimeError\u001b[0m: Consumer closed"
     ]
    }
   ],
   "source": [
    "try:\n",
    "    while True:\n",
    "        # SIGINT can't be handled when polling, limit timeout to 1 second.\n",
    "        msg = c2.poll(1.0)\n",
    "        if msg is None:\n",
    "            continue\n",
    "        if msg.error():\n",
    "            raise KafkaException(msg.error())\n",
    "        else:\n",
    "            for w in msg.value().split(\" \"):\n",
    "                print(w)\n",
    "                p2.produce(topics[1], key=w, value=int(1))\n",
    "                p2.poll(0)\n",
    "                p2.flush()\n",
    "except KeyboardInterrupt:\n",
    "    sys.stderr.write('%% Aborted by user\\n')\n",
    "finally:\n",
    "    # Close down consumer to commit final offsets.\n",
    "    c2.close()"
   ]
  },
  {
   "cell_type": "markdown",
   "metadata": {},
   "source": [
    "## Counting Words"
   ]
  },
  {
   "cell_type": "code",
   "execution_count": 24,
   "metadata": {},
   "outputs": [],
   "source": [
    "consumer_conf['group.id'] = str(uuid4())\n",
    "consumer_conf['value.deserializer'] = IntegerDeserializer()\n",
    "\n",
    "words = {}"
   ]
  },
  {
   "cell_type": "code",
   "execution_count": 25,
   "metadata": {},
   "outputs": [],
   "source": [
    "c3 = DeserializingConsumer(consumer_conf)\n",
    "c3.subscribe([topics[1]])"
   ]
  },
  {
   "cell_type": "code",
   "execution_count": 26,
   "metadata": {},
   "outputs": [
    {
     "name": "stderr",
     "output_type": "stream",
     "text": [
      "%% Aborted by user\n"
     ]
    }
   ],
   "source": [
    "try:\n",
    "    while True:\n",
    "        # SIGINT can't be handled when polling, limit timeout to 1 second.\n",
    "        msg = c3.poll(1.0)\n",
    "        if msg is None:\n",
    "            continue\n",
    "        if msg.error():\n",
    "            raise KafkaException(msg.error())\n",
    "        else:\n",
    "            w = str(msg.key())\n",
    "            if w in words:\n",
    "                words[w] = words[w] + msg.value()\n",
    "            else:\n",
    "                words[w] = msg.value()\n",
    "except KeyboardInterrupt:\n",
    "    sys.stderr.write('%% Aborted by user\\n')\n",
    "finally:\n",
    "    # Close down consumer to commit final offsets.\n",
    "    c3.close()"
   ]
  },
  {
   "cell_type": "code",
   "execution_count": 28,
   "metadata": {},
   "outputs": [
    {
     "data": {
      "text/plain": [
       "{'Dolore': 8,\n",
       " 'porro': 25,\n",
       " 'aliquam': 24,\n",
       " 'neque': 36,\n",
       " 'adipisci': 36,\n",
       " 'numquam': 25,\n",
       " 'neque.': 8,\n",
       " 'Ut': 14,\n",
       " 'consectetur': 28,\n",
       " 'est': 25,\n",
       " 'numquam.': 6,\n",
       " 'etincidunt': 16,\n",
       " 'modi': 32,\n",
       " 'velit.': 7,\n",
       " 'Non': 10,\n",
       " 'velit': 29,\n",
       " 'voluptatem': 35,\n",
       " 'tempora': 30,\n",
       " 'labore.': 8,\n",
       " 'Dolorem': 10,\n",
       " 'quiquia': 35,\n",
       " 'consectetur.': 10,\n",
       " 'Porro': 6,\n",
       " 'ipsum': 34,\n",
       " 'ut': 27,\n",
       " 'dolor': 25,\n",
       " 'quiquia.': 8,\n",
       " 'labore': 21,\n",
       " 'magnam': 34,\n",
       " 'quaerat': 33,\n",
       " 'Quaerat': 13,\n",
       " 'modi.': 2,\n",
       " 'Est': 9,\n",
       " 'sed.': 8,\n",
       " 'Adipisci': 14,\n",
       " 'amet': 39,\n",
       " 'eius.': 12,\n",
       " 'Amet': 9,\n",
       " 'dolorem': 21,\n",
       " 'non': 18,\n",
       " 'dolorem.': 9,\n",
       " 'sed': 29,\n",
       " 'dolore': 39,\n",
       " 'Eius': 5,\n",
       " 'eius': 26,\n",
       " 'quaerat.': 6,\n",
       " 'Aliquam': 6,\n",
       " 'sit.': 8,\n",
       " 'quisquam': 22,\n",
       " 'amet.': 3,\n",
       " 'Etincidunt': 5,\n",
       " 'Quisquam': 1,\n",
       " 'adipisci.': 5,\n",
       " 'porro.': 7,\n",
       " 'Dolor': 4,\n",
       " 'quisquam.': 9,\n",
       " 'sit': 27,\n",
       " 'Neque': 11,\n",
       " 'aliquam.': 11,\n",
       " 'Labore': 7,\n",
       " 'non.': 5,\n",
       " 'ut.': 6,\n",
       " 'dolor.': 6,\n",
       " 'Modi': 8,\n",
       " 'Quiquia': 14,\n",
       " 'Magnam': 9,\n",
       " 'etincidunt.': 14,\n",
       " 'Consectetur': 5,\n",
       " 'ipsum.': 8,\n",
       " 'Numquam': 5,\n",
       " 'est.': 7,\n",
       " 'magnam.': 4,\n",
       " 'Ipsum': 7,\n",
       " 'dolore.': 6,\n",
       " 'tempora.': 5,\n",
       " 'Velit': 3,\n",
       " 'voluptatem.': 10,\n",
       " 'Sed': 5,\n",
       " 'Sit': 4,\n",
       " 'Tempora': 4,\n",
       " 'Voluptatem': 2}"
      ]
     },
     "execution_count": 28,
     "metadata": {},
     "output_type": "execute_result"
    }
   ],
   "source": [
    "words"
   ]
  },
  {
   "cell_type": "code",
   "execution_count": 29,
   "metadata": {},
   "outputs": [],
   "source": [
    "import numpy as np\n",
    "import matplotlib.pyplot as plt"
   ]
  },
  {
   "cell_type": "code",
   "execution_count": 30,
   "metadata": {},
   "outputs": [
    {
     "data": {
      "text/plain": [
       "<BarContainer object of 81 artists>"
      ]
     },
     "execution_count": 30,
     "metadata": {},
     "output_type": "execute_result"
    },
    {
     "data": {
      "image/png": "[encoded data removed]",
      "text/plain": [
       "<Figure size 432x288 with 1 Axes>"
      ]
     },
     "metadata": {
      "needs_background": "light"
     },
     "output_type": "display_data"
    }
   ],
   "source": [
    "plt.bar(words.keys(), words.values(), color='g')"
   ]
  },
  {
   "cell_type": "markdown",
   "metadata": {},
   "source": [
    "# Consuming Sentences and producing words lengths"
   ]
  },
  {
   "cell_type": "code",
   "execution_count": 43,
   "metadata": {},
   "outputs": [
    {
     "data": {
      "text/plain": [
       "'sentences'"
      ]
     },
     "execution_count": 43,
     "metadata": {},
     "output_type": "execute_result"
    }
   ],
   "source": [
    "topics[0]"
   ]
  },
  {
   "cell_type": "code",
   "execution_count": 126,
   "metadata": {},
   "outputs": [],
   "source": [
    "consumer_conf['group.id'] = str(uuid4())\n",
    "c4 = DeserializingConsumer(consumer_conf)\n",
    "c4.subscribe([topics[0]])\n",
    "\n",
    "pconf = {\n",
    "    'bootstrap.servers': brokers,\n",
    "    'key.serializer': StringSerializer('utf_8'),\n",
    "    'value.serializer': IntegerSerializer()\n",
    "}\n",
    "\n",
    "\n",
    "p2 = SerializingProducer(pconf)"
   ]
  },
  {
   "cell_type": "code",
   "execution_count": 128,
   "metadata": {},
   "outputs": [],
   "source": [
    "import time"
   ]
  },
  {
   "cell_type": "code",
   "execution_count": 129,
   "metadata": {},
   "outputs": [
    {
     "name": "stdout",
     "output_type": "stream",
     "text": [
      "Dolore\n",
      "porro\n",
      "aliquam\n",
      "neque\n",
      "adipisci\n",
      "numquam\n",
      "neque.\n",
      "Ut\n",
      "consectetur\n"
     ]
    },
    {
     "name": "stderr",
     "output_type": "stream",
     "text": [
      "%% Aborted by user\n"
     ]
    }
   ],
   "source": [
    "try:\n",
    "    while True:\n",
    "        # SIGINT can't be handled when polling, limit timeout to 1 second.\n",
    "        msg = c4.poll(1.0)\n",
    "        if msg is None:\n",
    "            continue\n",
    "        if msg.error():\n",
    "            raise KafkaException(msg.error())\n",
    "        else:\n",
    "            for w in msg.value().split(\" \"):\n",
    "                print(w)\n",
    "                p2.produce(topics[2], key=w, value=int(len(w)))\n",
    "                p2.poll(0)\n",
    "                p2.flush()\n",
    "                time.sleep(5)\n",
    "except KeyboardInterrupt:\n",
    "    sys.stderr.write('%% Aborted by user\\n')\n",
    "finally:\n",
    "    # Close down consumer to commit final offsets.\n",
    "    c4.close()"
   ]
  },
  {
   "cell_type": "markdown",
   "metadata": {},
   "source": [
    "## Calculating the Average"
   ]
  },
  {
   "cell_type": "code",
   "execution_count": 151,
   "metadata": {},
   "outputs": [],
   "source": [
    "consumer_conf = {\n",
    "    'bootstrap.servers': brokers,\n",
    "    'key.deserializer': string_deserializer,\n",
    "    'value.deserializer': IntegerDeserializer(),\n",
    "    'group.id': str(uuid4()),\n",
    "    'session.timeout.ms': 6000,\n",
    "    'auto.offset.reset': 'earliest'\n",
    "}"
   ]
  },
  {
   "cell_type": "code",
   "execution_count": 152,
   "metadata": {},
   "outputs": [],
   "source": [
    "c5 = DeserializingConsumer(consumer_conf)\n",
    "c5.subscribe([topics[2]])\n",
    "\n",
    "window = [-1, -1] # opening and closing instance\n",
    "buffer = []"
   ]
  },
  {
   "cell_type": "code",
   "execution_count": null,
   "metadata": {},
   "outputs": [],
   "source": []
  },
  {
   "cell_type": "code",
   "execution_count": 153,
   "metadata": {},
   "outputs": [
    {
     "name": "stdout",
     "output_type": "stream",
     "text": [
      "[6]\n",
      "6.0\n",
      "[5]\n",
      "5.0\n",
      "[7]\n",
      "7.0\n",
      "[5]\n",
      "5.0\n",
      "[8, 7, 6, 2, 11, 3, 8, 8, 2, 10, 4, 6, 3, 5, 5, 10, 4, 7]\n",
      "6.055555555555555\n",
      "[7, 7, 7, 7, 4, 12, 5, 5, 4, 2, 5, 8, 3, 10, 6, 4, 5, 8, 3, 8, 6, 7, 3, 5, 6, 12, 3, 4, 7, 10, 6, 4, 6, 6, 7, 7, 11, 5, 3, 6, 10, 7, 8, 4, 8, 5, 10, 5, 4, 5, 4, 7, 7, 8, 7, 8, 8, 5, 7, 4, 4]\n",
      "6.213114754098361\n",
      "[3, 8, 3, 3, 7, 7, 6, 7, 3, 10, 5, 3, 5, 4, 2, 7, 4, 4, 7, 4, 8, 7, 7, 4, 7, 4, 2, 7, 6, 8, 8, 4, 5, 6, 3, 5, 4, 5, 5, 3, 10, 3, 10, 8, 10, 5, 3, 5, 5, 8, 6, 8, 5, 7, 8, 8, 4, 3, 4]\n",
      "5.593220338983051\n",
      "[5, 9, 8, 8, 10, 2, 6, 5, 2, 5, 7, 5, 4, 6, 8, 7, 8, 7, 7, 7, 4, 12, 6, 5, 3, 9, 8, 5, 5, 12, 6, 10, 3, 7, 6, 7, 4, 7, 8, 3, 7, 3, 5, 6, 8, 5, 7, 3, 4, 8, 6, 5, 3, 10, 7, 5, 5, 7]\n",
      "6.206896551724138\n",
      "[11, 5, 5, 5, 5, 6, 7, 5, 4, 2, 7, 8, 4, 3, 5, 4, 4, 3, 6, 4, 6, 6, 4, 3, 4, 7, 6, 7, 7, 5, 8, 5, 3, 5, 6, 7, 3, 2, 6, 8, 7, 3, 8, 7, 4, 4, 7, 5, 4, 6, 7, 2, 5, 5, 6, 11, 11, 7, 11, 11, 2]\n",
      "5.639344262295082\n",
      "[7, 4, 7, 10, 8, 7, 7, 7, 3, 11, 3, 4, 4, 6, 3, 4, 5, 8, 11, 7, 5, 5, 5, 7, 11, 7, 6, 8, 4, 6, 6, 6, 6, 5, 7, 3, 8, 4, 6, 7, 7, 7, 7, 7, 3, 4, 3, 5, 10, 4, 5, 11, 5, 3, 5, 7, 7, 5, 8]\n",
      "6.11864406779661\n",
      "[7, 7, 8, 5, 11, 7, 3, 5, 5, 4, 6, 10, 6, 4, 3, 6, 7, 5, 5, 6, 7, 11, 7, 7, 3, 6, 4, 7, 5, 7, 10, 5, 3, 5, 4, 8, 7, 6, 6, 8, 3, 7, 8, 10, 3, 7, 4, 6, 4, 5, 7, 11, 7, 2, 3, 5, 5]\n",
      "6.017543859649122\n",
      "[5, 6, 3, 5, 5, 6, 7, 10, 7, 8, 4, 6, 12, 7, 7, 8, 2, 10, 8, 2, 5, 7, 11, 4, 6, 3, 5, 7, 7, 7, 8, 5, 3, 6, 6, 3, 10, 7, 4, 7, 10, 8, 7, 4, 3, 5, 5, 5, 11, 5, 5, 5, 2, 3, 6, 2, 5, 3]\n",
      "5.913793103448276\n",
      "[5, 5, 5, 3, 7, 7, 7, 4, 9, 2, 7, 7, 11, 6, 5, 5, 7, 3, 7, 5, 7, 3, 2, 6, 4, 5, 8, 5, 5, 5, 6, 8, 5, 5, 5, 6, 7, 7, 2, 8, 10, 6, 5, 3, 5, 3, 8, 4, 8, 3, 6, 6, 4, 7, 3, 3, 3, 3]\n",
      "5.448275862068965\n",
      "[6, 8, 5, 10, 5, 10, 4, 8, 6, 11, 6, 11, 4, 5, 7, 7, 2, 5, 9, 7, 10, 10, 6, 6, 7, 10, 11, 4, 7, 8, 6, 11, 8, 10, 5, 3, 3, 7, 8, 2, 11, 6, 6, 3, 8, 4, 5, 4, 11, 3, 5, 5, 8, 7, 7, 7, 6, 3, 11]\n",
      "6.745762711864407\n",
      "[3, 7, 7, 8, 7, 2, 3, 11, 4, 5, 4, 4, 7, 5, 6, 7, 7, 3, 8, 6, 7, 6, 11, 6, 4, 7, 4, 11, 11, 8, 11, 6, 5, 10, 6, 3, 10, 8, 5, 11, 7, 10, 5, 10, 5, 9, 5, 6, 4, 5, 7, 6, 6, 8, 10, 7, 6, 4, 6, 11]\n",
      "6.683333333333334\n",
      "[3, 7, 2, 3, 8, 5, 5, 3, 11, 3, 3, 4, 7, 5, 7, 5, 6, 8, 6, 4, 4, 7, 3, 5, 3, 7, 8, 6, 3, 6, 7, 3, 11, 8, 6, 10, 5, 10, 6, 5, 6, 3, 7, 7, 6, 4, 5, 8, 7, 6, 8, 4, 7, 6, 6, 6, 4, 6, 6, 10]\n",
      "5.833333333333333\n",
      "[7, 5, 8, 5, 10, 4, 7, 8, 7, 7, 6, 6, 5, 4, 2, 4, 7, 6, 7, 6, 7, 8, 7, 5, 4, 8, 4, 4, 4, 3, 3, 11, 11, 4, 7, 10, 5, 4, 5, 4, 4, 7, 8, 6, 8, 4, 7, 5, 7, 12, 7, 10, 3, 2, 5, 5, 6, 2]\n",
      "5.982758620689655\n",
      "[7, 2, 3, 6, 10, 12, 2, 3, 4, 7, 6, 7, 8, 2, 4, 7, 7, 7, 4, 6, 9, 5, 6, 10, 8, 6, 2, 7, 10, 7, 3, 3, 7, 4, 6, 7, 7, 8, 11, 10, 6, 5, 11, 4, 8, 7, 8, 3, 5, 8, 7, 8, 5, 8, 8, 4, 2]\n",
      "6.2631578947368425\n",
      "[7, 7, 7, 4, 12, 3, 3, 7, 7, 6, 4, 7, 5, 7, 4, 6, 5, 10, 3, 3, 7, 5, 5, 6, 4, 5, 7, 11, 6, 11, 8, 7, 7, 9, 5, 7, 7, 2, 6, 5, 3, 6, 4, 7, 6, 5, 6, 7, 5, 7, 3, 11, 7, 8, 6, 5, 8]\n",
      "6.157894736842105\n",
      "[9, 6, 5, 6, 3, 6, 3, 7, 3, 8, 3, 9, 5, 6, 6, 5, 3, 5, 7, 7, 7, 9, 6, 3, 7, 5, 7, 8, 7, 6, 4, 3, 5, 8, 5, 7, 5, 4, 5, 8, 6, 4, 6, 7, 6, 7, 4, 4, 7, 11, 10, 5, 11, 3, 2, 7, 5, 8]\n",
      "5.931034482758621\n",
      "[3, 6, 7, 6, 5, 4, 7, 6, 5, 6, 7, 5, 4, 6, 7, 3, 7, 7, 7, 3, 8, 8, 8, 4, 3, 5, 6, 5, 8, 4, 8, 3, 7, 4, 3, 3, 5, 8, 5, 4, 3, 5, 7, 11, 5, 5, 11, 5, 4, 10, 4, 5, 11, 7, 5, 3, 7, 4]\n",
      "5.724137931034483\n",
      "[6, 10, 3, 7, 9, 3, 6, 7, 6, 7, 6, 7, 5, 6, 7, 10, 3, 3, 7, 4, 7, 5, 6, 2, 7, 5, 5, 5, 6, 6, 4, 7, 3, 4, 4, 7, 2, 4, 2, 11, 4, 7, 6, 4, 5, 6, 7, 11, 6, 7, 8, 4, 3, 5, 3, 7]\n",
      "5.660714285714286\n",
      "[7, 10, 5, 3, 3, 10, 10, 9, 3, 4, 8, 7, 4, 5, 4, 4, 11, 6, 6, 3, 3, 7, 7, 8, 5, 5, 6, 7, 7, 7, 4, 10, 11, 5, 5, 5, 3, 7, 4, 7, 2, 5, 7, 5, 10, 8, 3, 7, 11, 4, 5, 4, 3, 5, 4, 4, 8, 7, 11, 7, 6]\n",
      "6.081967213114754\n",
      "[5, 4, 4, 8, 8, 5, 7, 8, 7, 5, 8, 12, 3, 7, 4, 8, 7, 4, 3, 8, 10, 11, 2, 4, 11, 7, 6, 7, 5, 4, 6, 3, 5, 3, 4, 3, 10, 6, 6, 7, 5, 7, 7, 8, 11, 2, 3, 3, 3, 4, 6, 10, 9, 8, 4, 6, 8, 7, 6]\n",
      "6.135593220338983\n",
      "[10, 7, 4, 11, 8, 8, 4, 4, 4, 9, 7, 5, 4, 7, 8, 4, 2, 7, 5, 5, 2, 8, 8, 6, 8, 5, 5, 11, 11, 4, 12]\n",
      "6.548387096774194\n",
      "[6]\n",
      "6.0\n",
      "[5]\n",
      "5.0\n",
      "[7]\n",
      "7.0\n",
      "[5]\n",
      "5.0\n",
      "[8]\n",
      "8.0\n",
      "[7]\n",
      "7.0\n",
      "[6]\n",
      "6.0\n",
      "[2]\n",
      "2.0\n"
     ]
    },
    {
     "name": "stderr",
     "output_type": "stream",
     "text": [
      "%% Aborted by user\n"
     ]
    }
   ],
   "source": [
    "try:\n",
    "    while True:\n",
    "        # SIGINT can't be handled when polling, limit timeout to 1 second.\n",
    "        msg = c5.poll(1)\n",
    "        if msg is None:\n",
    "            continue\n",
    "        if msg.error():\n",
    "            raise KafkaException(msg.error())\n",
    "        else:\n",
    "            if(window[0]==-1):\n",
    "                window[0]=msg.timestamp()[1]\n",
    "                window[1]=msg.timestamp()[1]+4*100\n",
    "                buffer.append(msg.value())\n",
    "            elif (msg.timestamp()[1]> window[1]):\n",
    "                print(buffer)\n",
    "                print(sum(buffer) / len(buffer))\n",
    "                old = window[1]\n",
    "                window[0]= old\n",
    "                window[1]= old +4*100\n",
    "                buffer = [msg.value()]\n",
    "            else:\n",
    "                buffer.append(msg.value())\n",
    "except KeyboardInterrupt:\n",
    "    sys.stderr.write('%% Aborted by user\\n')\n",
    "finally:\n",
    "    # Close down consumer to commit final offsets.\n",
    "    c5.close()"
   ]
  },
  {
   "cell_type": "code",
   "execution_count": 150,
   "metadata": {},
   "outputs": [
    {
     "data": {
      "text/plain": [
       "[11]"
      ]
     },
     "execution_count": 150,
     "metadata": {},
     "output_type": "execute_result"
    }
   ],
   "source": [
    "buffer"
   ]
  },
  {
   "cell_type": "code",
   "execution_count": null,
   "metadata": {},
   "outputs": [],
   "source": []
  }
 ],
 "metadata": {
  "kernelspec": {
   "display_name": "Python 3",
   "language": "python",
   "name": "python3"
  },
  "language_info": {
   "codemirror_mode": {
    "name": "ipython",
    "version": 3
   },
   "file_extension": ".py",
   "mimetype": "text/x-python",
   "name": "python",
   "nbconvert_exporter": "python",
   "pygments_lexer": "ipython3",
   "version": "3.8.5"
  }
 },
 "nbformat": 4,
 "nbformat_minor": 4
}
