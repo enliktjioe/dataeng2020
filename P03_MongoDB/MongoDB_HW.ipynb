{
 "cells": [
  {
   "cell_type": "markdown",
   "metadata": {},
   "source": [
    "# Week 4: Document-Based Stores (MongoDB)\n",
    "### Student ID: [B96323]\n",
    "### Subtasks Done: [1,2,3]"
   ]
  },
  {
   "cell_type": "markdown",
   "metadata": {},
   "source": [
    "### Task 1: Create a simple MongoDB out of this relational model"
   ]
  },
  {
   "cell_type": "markdown",
   "metadata": {},
   "source": [
    "This is  a toy DB about movies and actors who played roles in these movies. This DB is consisted of  \n",
    "\n",
    "- A \"Person\" table who has a unique id, and a name fields.\n",
    "\n",
    "- Another \"Movie\" table that has a unique id, a title, a country where it was made, and a year when it was released.\n",
    "\n",
    "- There is (m-n) or \"many-many\" relationship between these two tables (i.e basically, many actors can act in many movies, and the movie include many actors)\n",
    "- Therefore, we use the \"Roles\" table in which we can deduct which person has acted in which movie, and what role(s) they played.\n",
    "\n",
    "<img src=\"RDBSchema.png\" alt=\"3\" border=\"0\">"
   ]
  },
  {
   "cell_type": "markdown",
   "metadata": {},
   "source": [
    "#### Connect to the MongoDB server, and create a mongoDB with the name 'moviedb'"
   ]
  },
  {
   "cell_type": "code",
   "execution_count": 2,
   "metadata": {},
   "outputs": [],
   "source": [
    "from pymongo import MongoClient\n",
    "from random import randint\n",
    "from pprint import pprint\n",
    "\n",
    "import warnings\n",
    "warnings.filterwarnings('ignore')"
   ]
  },
  {
   "cell_type": "code",
   "execution_count": 3,
   "metadata": {},
   "outputs": [],
   "source": [
    "##YOUR CODE HERER\n",
    "#we use the MongoClient to communicate with the running database instance.\n",
    "myclient = MongoClient(\"mongodb://localhost:27017/\") #Mongo URI format\n",
    "# mydb = myclient[\"moviedb\"]\n",
    "mydb = myclient.moviedb"
   ]
  },
  {
   "cell_type": "code",
   "execution_count": 9,
   "metadata": {},
   "outputs": [
    {
     "data": {
      "text/plain": [
       "Database(MongoClient(host=['localhost:27017'], document_class=dict, tz_aware=False, connect=True), 'moviedb')"
      ]
     },
     "execution_count": 9,
     "metadata": {},
     "output_type": "execute_result"
    }
   ],
   "source": [
    "mydb"
   ]
  },
  {
   "cell_type": "code",
   "execution_count": 10,
   "metadata": {},
   "outputs": [
    {
     "data": {
      "text/plain": [
       "['admin', 'config', 'customer_db', 'local']"
      ]
     },
     "execution_count": 10,
     "metadata": {},
     "output_type": "execute_result"
    }
   ],
   "source": [
    "myclient.list_database_names()"
   ]
  },
  {
   "cell_type": "markdown",
   "metadata": {},
   "source": [
    "#### Create Person/Actor collection"
   ]
  },
  {
   "cell_type": "code",
   "execution_count": 13,
   "metadata": {},
   "outputs": [],
   "source": [
    "##YOUR CODE HERER\n",
    "person_coll = mydb[\"person\"]\n",
    "actor_coll = mydb[\"actor\"]"
   ]
  },
  {
   "cell_type": "code",
   "execution_count": 14,
   "metadata": {},
   "outputs": [
    {
     "data": {
      "text/plain": [
       "[]"
      ]
     },
     "execution_count": 14,
     "metadata": {},
     "output_type": "execute_result"
    }
   ],
   "source": [
    "mydb.list_collection_names()"
   ]
  },
  {
   "cell_type": "markdown",
   "metadata": {},
   "source": [
    "*Quick Notes*\n",
    "- This means that Mongo is following a lazy creation approach.\n",
    "    - That is the database and corresponding collection are actually only created when a document is inserted.\n"
   ]
  },
  {
   "cell_type": "markdown",
   "metadata": {},
   "source": [
    "#### Insert the data into the Person Table"
   ]
  },
  {
   "cell_type": "code",
   "execution_count": 156,
   "metadata": {},
   "outputs": [
    {
     "name": "stdout",
     "output_type": "stream",
     "text": [
      "[ObjectId('5f79adbf4f2858acfbadcb29'), ObjectId('5f79adbf4f2858acfbadcb2a'), ObjectId('5f79adbf4f2858acfbadcb2b')]\n"
     ]
    }
   ],
   "source": [
    "personList = [\n",
    "  { \"id\": 1, \"name\": \"Charlie Sheen\" },\n",
    "  { \"id\": 2, \"name\": \"Michael Douglas\"},\n",
    "  { \"id\": 3, \"name\": \"Martin Sheen\"},\n",
    "  { \"id\": 4, \"name\": \"Morgan Freeman\"}\n",
    "]\n",
    "\n",
    "###YOUR CODE HERE\n",
    "persons = person_coll.insert_many(personList)\n",
    "print(persons.inserted_ids)\n"
   ]
  },
  {
   "cell_type": "code",
   "execution_count": 16,
   "metadata": {},
   "outputs": [
    {
     "data": {
      "text/plain": [
       "['person']"
      ]
     },
     "execution_count": 16,
     "metadata": {},
     "output_type": "execute_result"
    }
   ],
   "source": [
    "mydb.list_collection_names()"
   ]
  },
  {
   "cell_type": "markdown",
   "metadata": {},
   "source": [
    "#### Creating rest of Collections (\"Movies\", \"Roles\")"
   ]
  },
  {
   "cell_type": "code",
   "execution_count": 17,
   "metadata": {},
   "outputs": [],
   "source": [
    "restcols = [\"Movies\",\"Roles\"]\n",
    "\n",
    "for col in restcols:\n",
    "    ###YOUR CODE HERE\n",
    "    mydb[col]"
   ]
  },
  {
   "cell_type": "markdown",
   "metadata": {},
   "source": [
    "#### Inserting data into the movie Collection"
   ]
  },
  {
   "cell_type": "code",
   "execution_count": 19,
   "metadata": {},
   "outputs": [
    {
     "name": "stdout",
     "output_type": "stream",
     "text": [
      "[ObjectId('5f7833ed4f2858acfbadcb20'), ObjectId('5f7833ed4f2858acfbadcb21'), ObjectId('5f7833ed4f2858acfbadcb22')]\n"
     ]
    }
   ],
   "source": [
    "moviescoll = mydb[\"Movies\"]###YOUR CODE HERE\n",
    "\n",
    "movieList = [\n",
    "  { \"id\": 1, \"title\": \"Wall Street\", \"country\":\"USA\",\"year\":1987},\n",
    "  { \"id\": 2, \"title\": \"The American President\", \"country\":\"USA\",\"year\":1995},\n",
    "  { \"id\": 3, \"title\": \"The Shawshank Redemption\", \"country\":\"USA\",\"year\":1994},\n",
    "]\n",
    "\n",
    "###YOUR CODE HERE\n",
    "movies = moviescoll.insert_many(movieList)\n",
    "print(movies.inserted_ids)"
   ]
  },
  {
   "cell_type": "code",
   "execution_count": 20,
   "metadata": {},
   "outputs": [
    {
     "data": {
      "text/plain": [
       "['person', 'Movies']"
      ]
     },
     "execution_count": 20,
     "metadata": {},
     "output_type": "execute_result"
    }
   ],
   "source": [
    "mydb.list_collection_names()"
   ]
  },
  {
   "cell_type": "markdown",
   "metadata": {},
   "source": [
    "#### Inserting data into the roles Collection"
   ]
  },
  {
   "cell_type": "code",
   "execution_count": 21,
   "metadata": {},
   "outputs": [
    {
     "name": "stdout",
     "output_type": "stream",
     "text": [
      "[ObjectId('5f7834414f2858acfbadcb23'), ObjectId('5f7834414f2858acfbadcb24'), ObjectId('5f7834414f2858acfbadcb25'), ObjectId('5f7834414f2858acfbadcb26'), ObjectId('5f7834414f2858acfbadcb27'), ObjectId('5f7834414f2858acfbadcb28')]\n"
     ]
    }
   ],
   "source": [
    "rolesCol = mydb['Roles']\n",
    "\n",
    "roleList = [\n",
    "  { \"personId\": 1, \"movieId\": 1, \"role\":[\"Bud Fox\"]},\n",
    "  { \"personId\": 2, \"movieId\": 1, \"role\":[\"Carl Fox\"]},\n",
    "  { \"personId\": 3, \"movieId\": 1, \"role\":[\"Gordon Gekko\"]},\n",
    "  { \"personId\": 2, \"movieId\": 2, \"role\":[\"A.J. MacInerney\"]},\n",
    "  { \"personId\": 3, \"movieId\": 2, \"role\":[\"President Andrew Shepherd\"]},\n",
    "  { \"personId\": 4, \"movieId\": 3, \"role\":[\"Ellis Boyd 'Red' Redding\"]}\n",
    "]\n",
    "\n",
    "###YOUR CODE HERE\n",
    "roles = rolesCol.insert_many(roleList)\n",
    "print(roles.inserted_ids)"
   ]
  },
  {
   "cell_type": "code",
   "execution_count": 22,
   "metadata": {},
   "outputs": [
    {
     "data": {
      "text/plain": [
       "['Roles', 'person', 'Movies']"
      ]
     },
     "execution_count": 22,
     "metadata": {},
     "output_type": "execute_result"
    }
   ],
   "source": [
    "mydb.list_collection_names()"
   ]
  },
  {
   "cell_type": "markdown",
   "metadata": {},
   "source": [
    "### <font color ='green'>Just for your info</font>:\n",
    "\n",
    "#### Another Way of Modeling this M-N model in Mongo would be using the Forien Keys \n",
    "\n",
    "\n",
    "* Movies\n",
    "\n",
    "\n",
    "```[\n",
    "\n",
    "{\n",
    "\t\"_id\": 1,\n",
    "\t\"title\":\"Wall Street\",\n",
    "\t\"country\":\"USA\",\n",
    "\t\"year\":1987,\n",
    "\t\"persons\":[1,2]\n",
    "},\n",
    "\n",
    "{\n",
    "\t\"_id\": 2,\n",
    "\t\"title\":\"The American President\",\n",
    "\t\"country\":\"USA\",\n",
    "\t\"year\":1995,\n",
    "\t\"persons\":[2]\n",
    "}]\n",
    "```\n",
    "* Actors\n",
    "\n",
    "```\n",
    "[{\n",
    "    \"_id\": 1,\n",
    "    \"name\": \"Charlie Sheen\",\n",
    "    \"movies\":[\n",
    "    {\"role\": \"Bud Fox\", \"movie_id\":1}\n",
    "    ]\n",
    "},\n",
    "\n",
    "{\n",
    "    \"_id\": 2,\n",
    "    \"name\": \"Micheal Douglas\",\n",
    "    \"movies\":[\n",
    "    {\"role\": \"Gordon Geko\", \"movie_id\":1},\n",
    "    {\"role\": \"President Andrew Shepherd\", \"movie_id\":2}\n",
    "    ]\n",
    "}\n",
    "\n",
    "] ```\n"
   ]
  },
  {
   "cell_type": "markdown",
   "metadata": {},
   "source": [
    "#### Get all actors in your Mongo DB"
   ]
  },
  {
   "cell_type": "code",
   "execution_count": 46,
   "metadata": {},
   "outputs": [
    {
     "name": "stdout",
     "output_type": "stream",
     "text": [
      "{'_id': ObjectId('5f7831fc4f2858acfbadcb1c'), 'id': 1, 'name': 'Charlie Sheen'}\n",
      "{'_id': ObjectId('5f7831fc4f2858acfbadcb1d'), 'id': 2, 'name': 'Michael Douglas'}\n",
      "{'_id': ObjectId('5f7831fc4f2858acfbadcb1e'), 'id': 3, 'name': 'Martin Sheen'}\n",
      "{'_id': ObjectId('5f7831fc4f2858acfbadcb1f'), 'id': 4, 'name': 'Morgan Freeman'}\n"
     ]
    }
   ],
   "source": [
    "###YOUR CODE HERE\n",
    "allActors=mydb.person.find() #we can ignore the empty '{}' doc.\n",
    "for actor in allActors:\n",
    "    print(actor)"
   ]
  },
  {
   "cell_type": "markdown",
   "metadata": {},
   "source": [
    "#### Get actors with names start with 'C' letter"
   ]
  },
  {
   "cell_type": "code",
   "execution_count": 8,
   "metadata": {},
   "outputs": [
    {
     "name": "stdout",
     "output_type": "stream",
     "text": [
      "{'_id': ObjectId('5f7831fc4f2858acfbadcb1c'), 'id': 1, 'name': 'Charlie Sheen'}\n",
      "{'_id': ObjectId('5f79b2064f2858acfbadcb2e'), 'id': 6, 'name': 'Carrie-Anne Moss', 'born': 1967}\n"
     ]
    }
   ],
   "source": [
    "# Reference: https://stackoverflow.com/a/4877662/2670476\n",
    "# import re\n",
    "# regx = re.compile(\"^C\", re.IGNORECASE)\n",
    "# actor_startwith_C_letter = mydb.person.find_one({\"name\": regx}) #YOUR CODE HERE\n",
    "\n",
    "# Reference: https://stackoverflow.com/a/50485848/2670476\n",
    "# import bson\n",
    "# regx = bson.regex.Regex('^C')\n",
    "# actor_startwith_C_letter = mydb.person.find_one({'name': regx})\n",
    "\n",
    "actor_startwith_C_letter = mydb.person.find({'name': {'$regex': 'C.*'}}) #YOUR CODE HERE\n",
    "\n",
    "for actor in actor_startwith_C_letter:\n",
    "    print(actor)"
   ]
  },
  {
   "cell_type": "markdown",
   "metadata": {},
   "source": [
    "#### Get all Movies sorted from recent to old! (get only the title and year fields)"
   ]
  },
  {
   "cell_type": "code",
   "execution_count": 66,
   "metadata": {},
   "outputs": [
    {
     "name": "stdout",
     "output_type": "stream",
     "text": [
      "{'title': 'The American President', 'year': 1995}\n",
      "{'title': 'The Shawshank Redemption', 'year': 1994}\n",
      "{'title': 'Wall Street', 'year': 1987}\n"
     ]
    }
   ],
   "source": [
    "###YOUR CODE HERE\n",
    "movies_sorted= mydb.Movies.find({}, {\"title\":1, \"year\":1, \"_id\":0}).sort([(\"year\",-1)])#YOUR CODE HERE\n",
    "for movie in movies_sorted:\n",
    "    print(movie)"
   ]
  },
  {
   "cell_type": "markdown",
   "metadata": {},
   "source": [
    "#### Get all Movies released in the 90s (after year (1990) and before 2000) ordered from old to recent."
   ]
  },
  {
   "cell_type": "code",
   "execution_count": 3,
   "metadata": {},
   "outputs": [
    {
     "name": "stdout",
     "output_type": "stream",
     "text": [
      "{'_id': ObjectId('5f7833ed4f2858acfbadcb22'), 'id': 3, 'title': 'The Shawshank Redemption', 'country': 'USA', 'year': 1994}\n",
      "{'_id': ObjectId('5f7833ed4f2858acfbadcb21'), 'id': 2, 'title': 'The American President', 'country': 'USA', 'year': 1995}\n",
      "{'_id': ObjectId('5f79b1d14f2858acfbadcb2c'), 'id': 4, 'title': 'The Matrix', 'country': 'USA', 'year': 1999, 'tagline': 'Welcome to the Real World'}\n"
     ]
    }
   ],
   "source": [
    "###YOUR CODE HERE\n",
    "movies90s = mydb.Movies.find(\n",
    "    {\"$and\": [{\"year\": {\"$gt\": 1990}},\n",
    "              {\"year\": {\"$lt\": 2000}}\n",
    "             ]}).sort([(\"year\",1)])\n",
    "\n",
    "for movie in movies90s:\n",
    "    print(movie)"
   ]
  },
  {
   "cell_type": "markdown",
   "metadata": {},
   "source": [
    "#### Get Movies and Actors from your \"movies\" DB\n",
    "* Hint : use the <code>'$lookup'</code> operator.\n",
    "* The Result should be something like the following:\n",
    "<code>\n",
    "Charlie Sheen : Wall Street\n",
    "Michael Douglas : Wall Street\n",
    "Martin Sheen : Wall Street\n",
    "Michael Douglas : The American President\n",
    "Martin Sheen : The American President\n",
    "Morgan Freeman : The Shawshank Redemption\n",
    "</code>"
   ]
  },
  {
   "cell_type": "code",
   "execution_count": 44,
   "metadata": {},
   "outputs": [
    {
     "name": "stdout",
     "output_type": "stream",
     "text": [
      "{'name': 'Charlie Sheen', 'movie': 'Wall Street'}\n",
      "{'name': 'Michael Douglas', 'movie': 'Wall Street'}\n",
      "{'name': 'Martin Sheen', 'movie': 'Wall Street'}\n",
      "{'name': 'Michael Douglas', 'movie': 'The American President'}\n",
      "{'name': 'Martin Sheen', 'movie': 'The American President'}\n",
      "{'name': 'Morgan Freeman', 'movie': 'The Shawshank Redemption'}\n"
     ]
    }
   ],
   "source": [
    "# https://stackoverflow.com/a/42410764/2670476\n",
    "actors_in_movies = mydb.Roles.aggregate([\n",
    "    {\n",
    "        \"$lookup\":{\n",
    "            \"from\": \"person\",       \n",
    "            \"localField\": \"personId\",   \n",
    "            \"foreignField\": \"id\",\n",
    "            \"as\": \"person\"\n",
    "        }\n",
    "    },\n",
    "    {   \"$unwind\":\"$person\" },    # $unwind used for getting data in object or for one record only\n",
    "\n",
    "    # Join with Movies table\n",
    "    {\n",
    "        \"$lookup\":{\n",
    "            \"from\": \"Movies\", \n",
    "            \"localField\": \"movieId\", \n",
    "            \"foreignField\": \"id\",\n",
    "            \"as\": \"movie\"\n",
    "        }\n",
    "    },\n",
    "    {   \"$unwind\":\"$movie\" },\n",
    "\n",
    "#     # define some conditions here \n",
    "#     {\n",
    "#         \"$match\":{\n",
    "#             \"$and\":[{\"movieId\" : 1}]\n",
    "#         }\n",
    "#     },\n",
    "\n",
    "    # define which fields are you want to fetch\n",
    "    {   \n",
    "        \"$project\":{\n",
    "            \"_id\" : 0,\n",
    "            \"name\": \"$person.name\",\n",
    "            \"movie\": \"$movie.title\"\n",
    "            \n",
    "        } \n",
    "    }\n",
    "])\n",
    "\n",
    "for x in actors_in_movies:\n",
    "    print(x)"
   ]
  },
  {
   "cell_type": "markdown",
   "metadata": {},
   "source": [
    "#### For each Actor, get count of \"Movies\" he acted in."
   ]
  },
  {
   "cell_type": "code",
   "execution_count": 53,
   "metadata": {},
   "outputs": [
    {
     "name": "stdout",
     "output_type": "stream",
     "text": [
      "{'name': 'Charlie Sheen', 'movie': 'Wall Street', 'count': 1}\n",
      "{'name': 'Michael Douglas', 'movie': 'Wall Street', 'count': 1}\n",
      "{'name': 'Martin Sheen', 'movie': 'Wall Street', 'count': 1}\n",
      "{'name': 'Michael Douglas', 'movie': 'The American President', 'count': 1}\n",
      "{'name': 'Martin Sheen', 'movie': 'The American President', 'count': 1}\n",
      "{'name': 'Morgan Freeman', 'movie': 'The Shawshank Redemption', 'count': 1}\n"
     ]
    }
   ],
   "source": [
    "###YOUR CODE HERE\n",
    "actors_in_movies = mydb.Roles.aggregate([\n",
    "    {\n",
    "        \"$lookup\":{\n",
    "            \"from\": \"person\",       \n",
    "            \"localField\": \"personId\",   \n",
    "            \"foreignField\": \"id\",\n",
    "            \"as\": \"person\"\n",
    "        }\n",
    "    },\n",
    "    {   \"$unwind\":\"$person\" },    # $unwind used for getting data in object or for one record only\n",
    "\n",
    "    # Join with Movies table\n",
    "    {\n",
    "        \"$lookup\":{\n",
    "            \"from\": \"Movies\", \n",
    "            \"localField\": \"movieId\", \n",
    "            \"foreignField\": \"id\",\n",
    "            \"as\": \"movie\"\n",
    "        }\n",
    "    },\n",
    "    {   \"$unwind\":\"$movie\" },\n",
    "\n",
    "#     # define some conditions here \n",
    "#     {\n",
    "#         \"$match\":{\n",
    "#             \"$and\":[{\"movieId\" : 1}]\n",
    "#         }\n",
    "#     },\n",
    "\n",
    "    # define which fields are you want to fetch\n",
    "    {   \n",
    "        \"$project\":{\n",
    "            \"_id\" : 0,\n",
    "            \"name\": \"$person.name\",\n",
    "            \"movie\": \"$movie.title\",\n",
    "            \"count\": {\"$sum\":1}\n",
    "            \n",
    "        } \n",
    "    }\n",
    "])\n",
    "\n",
    "for x in actors_in_movies:\n",
    "    print(x)"
   ]
  },
  {
   "cell_type": "markdown",
   "metadata": {},
   "source": [
    "#### In your DB, list the movies that every Actor played"
   ]
  },
  {
   "cell_type": "code",
   "execution_count": null,
   "metadata": {},
   "outputs": [],
   "source": [
    "###YOUR CODE HERE\n",
    "actors_in_movies = mydb.Roles.aggregate([\n",
    "    {\n",
    "        \"$lookup\":{\n",
    "            \"from\": \"person\",       \n",
    "            \"localField\": \"personId\",   \n",
    "            \"foreignField\": \"id\",\n",
    "            \"as\": \"person\"\n",
    "        }\n",
    "    },\n",
    "    {   \"$unwind\":\"$person\" },    # $unwind used for getting data in object or for one record only\n",
    "\n",
    "    # Join with Movies table\n",
    "    {\n",
    "        \"$lookup\":{\n",
    "            \"from\": \"Movies\", \n",
    "            \"localField\": \"movieId\", \n",
    "            \"foreignField\": \"id\",\n",
    "            \"as\": \"movie\"\n",
    "        }\n",
    "    },\n",
    "    {   \"$unwind\":\"$movie\" },\n",
    "\n",
    "#     # define some conditions here \n",
    "#     {\n",
    "#         \"$match\":{\n",
    "#             \"$and\":[{\"movieId\" : 1}]\n",
    "#         }\n",
    "#     },\n",
    "\n",
    "    # define which fields are you want to fetch\n",
    "    {   \n",
    "        \"$project\":{\n",
    "            \"_id\" : 0,\n",
    "            \"name\": \"$person.name\",\n",
    "            \"movie\": \"$movie.title\",\n",
    "            \"count\": {\"$sum\":1}\n",
    "            \n",
    "        } \n",
    "    }\n",
    "])\n",
    "\n",
    "for x in actors_in_movies:\n",
    "    print(x)"
   ]
  },
  {
   "cell_type": "markdown",
   "metadata": {},
   "source": [
    "#### Get the Persons/Actors who acted in \"Wall Street\" movie\n",
    "- Hint use `$lookup` , `$match` operators in the aggregation piepeline"
   ]
  },
  {
   "cell_type": "code",
   "execution_count": 61,
   "metadata": {},
   "outputs": [
    {
     "name": "stdout",
     "output_type": "stream",
     "text": [
      "{'name': ['Charlie Sheen'], 'movie': ['Wall Street']}\n",
      "{'name': ['Michael Douglas'], 'movie': ['Wall Street']}\n",
      "{'name': ['Martin Sheen'], 'movie': ['Wall Street']}\n"
     ]
    }
   ],
   "source": [
    "###YOUR CODE HERE\n",
    "actors_in_movies = mydb.Roles.aggregate([\n",
    "    {\n",
    "        \"$lookup\":{\n",
    "            \"from\": \"person\",       \n",
    "            \"localField\": \"personId\",   \n",
    "            \"foreignField\": \"id\",\n",
    "            \"as\": \"person\"\n",
    "        }\n",
    "    },\n",
    "#     {   \"$unwind\":\"$person\" },    # $unwind used for getting data in object or for one record only\n",
    "\n",
    "    # Join with Movies table\n",
    "    {\n",
    "        \"$lookup\":{\n",
    "            \"from\": \"Movies\", \n",
    "            \"localField\": \"movieId\", \n",
    "            \"foreignField\": \"id\",\n",
    "            \"as\": \"movie\"\n",
    "        }\n",
    "    },\n",
    "#     {   \"$unwind\":\"$movie\" },\n",
    "\n",
    "    # define some conditions here \n",
    "    {\n",
    "        \"$match\":{\n",
    "            \"$and\":[{\"movieId\" : 1}]\n",
    "        }\n",
    "    },\n",
    "\n",
    "    # define which fields are you want to fetch\n",
    "    {   \n",
    "        \"$project\":{\n",
    "            \"_id\" : 0,\n",
    "            \"name\": \"$person.name\",\n",
    "            \"movie\": \"$movie.title\"\n",
    "            \n",
    "        } \n",
    "    }\n",
    "])\n",
    "\n",
    "for x in actors_in_movies:\n",
    "    print(x)"
   ]
  },
  {
   "cell_type": "markdown",
   "metadata": {},
   "source": [
    "#### Get the Movies in which \"Micheal Douglas\" has played a role in"
   ]
  },
  {
   "cell_type": "code",
   "execution_count": 63,
   "metadata": {},
   "outputs": [
    {
     "name": "stdout",
     "output_type": "stream",
     "text": [
      "{'name': ['Michael Douglas'], 'movie': ['Wall Street']}\n",
      "{'name': ['Michael Douglas'], 'movie': ['The American President']}\n"
     ]
    }
   ],
   "source": [
    "###YOUR CODE HERE\n",
    "actors_in_movies = mydb.Roles.aggregate([\n",
    "    {\n",
    "        \"$lookup\":{\n",
    "            \"from\": \"person\",       \n",
    "            \"localField\": \"personId\",   \n",
    "            \"foreignField\": \"id\",\n",
    "            \"as\": \"person\"\n",
    "        }\n",
    "    },\n",
    "#     {   \"$unwind\":\"$person\" },    # $unwind used for getting data in object or for one record only\n",
    "\n",
    "    # Join with Movies table\n",
    "    {\n",
    "        \"$lookup\":{\n",
    "            \"from\": \"Movies\", \n",
    "            \"localField\": \"movieId\", \n",
    "            \"foreignField\": \"id\",\n",
    "            \"as\": \"movie\"\n",
    "        }\n",
    "    },\n",
    "#     {   \"$unwind\":\"$movie\" },\n",
    "\n",
    "    # define some conditions here \n",
    "    {\n",
    "        \"$match\":{\n",
    "            \"$and\":[{\"personId\" : 2}]\n",
    "        }\n",
    "    },\n",
    "\n",
    "    # define which fields are you want to fetch\n",
    "    {   \n",
    "        \"$project\":{\n",
    "            \"_id\" : 0,\n",
    "            \"name\": \"$person.name\",\n",
    "            \"movie\": \"$movie.title\"\n",
    "            \n",
    "        } \n",
    "    }\n",
    "])\n",
    "\n",
    "for x in actors_in_movies:\n",
    "    print(x)"
   ]
  },
  {
   "cell_type": "markdown",
   "metadata": {},
   "source": [
    "#### Get count of \"Movies\" in your DB"
   ]
  },
  {
   "cell_type": "code",
   "execution_count": 64,
   "metadata": {},
   "outputs": [
    {
     "data": {
      "text/plain": [
       "4"
      ]
     },
     "execution_count": 64,
     "metadata": {},
     "output_type": "execute_result"
    }
   ],
   "source": [
    "###YOUR CODE HERE\n",
    "mydb.Movies.find().count()"
   ]
  },
  {
   "cell_type": "markdown",
   "metadata": {},
   "source": [
    "#### update the year of the 'Wall Street' movie was released in to be 2000(which is not true BTW :)\n",
    "- Show that movie before and After updating it"
   ]
  },
  {
   "cell_type": "code",
   "execution_count": 145,
   "metadata": {},
   "outputs": [
    {
     "name": "stdout",
     "output_type": "stream",
     "text": [
      "{'_id': ObjectId('5f7833ed4f2858acfbadcb20'), 'id': 1, 'title': 'Wall Street', 'country': 'USA', 'year': 1987}\n",
      "{'_id': ObjectId('5f7833ed4f2858acfbadcb21'), 'id': 2, 'title': 'The American President', 'country': 'USA', 'year': 1995}\n",
      "{'_id': ObjectId('5f7833ed4f2858acfbadcb22'), 'id': 3, 'title': 'The Shawshank Redemption', 'country': 'USA', 'year': 1994}\n"
     ]
    }
   ],
   "source": [
    "a = mydb.Movies.find()\n",
    "\n",
    "for x in a:\n",
    "    print(x)"
   ]
  },
  {
   "cell_type": "code",
   "execution_count": 153,
   "metadata": {},
   "outputs": [
    {
     "name": "stdout",
     "output_type": "stream",
     "text": [
      "{'title': 'Wall Street', 'year': 1987}\n",
      "{'title': 'Wall Street', 'year': 2000}\n"
     ]
    }
   ],
   "source": [
    "###YOUR CODE HERE\n",
    "ws =mydb.Movies.find_one({\"title\":\"Wall Street\"}, {\"title\":1, \"year\":1, \"_id\":0}) \n",
    "print(ws)\n",
    "\n",
    "mydb.Movies.update({\"title\":\"Wall Street\"},{\"$set\": {\"year\":2000}  })\n",
    "\n",
    "ws =mydb.Movies.find_one({\"title\":\"Wall Street\"}, {\"title\":1, \"year\":1, \"_id\":0}) \n",
    "print(ws)"
   ]
  },
  {
   "cell_type": "markdown",
   "metadata": {},
   "source": [
    "####  Delete all the persons with names start with 'M' letter."
   ]
  },
  {
   "cell_type": "code",
   "execution_count": 9,
   "metadata": {},
   "outputs": [
    {
     "name": "stdout",
     "output_type": "stream",
     "text": [
      "\n",
      " //////////////////BEFORE//////\n",
      "{'_id': ObjectId('5f7831fc4f2858acfbadcb1c'), 'id': 1, 'name': 'Charlie Sheen'}\n",
      "{'_id': ObjectId('5f79adbf4f2858acfbadcb29'), 'id': 2, 'name': 'Michael Douglas'}\n",
      "{'_id': ObjectId('5f79adbf4f2858acfbadcb2a'), 'id': 3, 'name': 'Martin Sheen'}\n",
      "{'_id': ObjectId('5f79adbf4f2858acfbadcb2b'), 'id': 4, 'name': 'Morgan Freeman'}\n",
      "{'_id': ObjectId('5f79b2064f2858acfbadcb2d'), 'id': 5, 'name': 'Keanu Reeves', 'born': 1964}\n",
      "{'_id': ObjectId('5f79b2064f2858acfbadcb2e'), 'id': 6, 'name': 'Carrie-Anne Moss', 'born': 1967}\n",
      "{'_id': ObjectId('5f79b2064f2858acfbadcb2f'), 'id': 7, 'name': 'Laurence Fishburne', 'born': 1960}\n",
      "{'_id': ObjectId('5f79b2064f2858acfbadcb30'), 'id': 8, 'name': 'Hugo Weaving', 'born': 1960}\n",
      "{'_id': ObjectId('5f79b38c4f2858acfbadcb31'), 'id': 9, 'name': 'Lilly Wachowski', 'born': 1967, 'label': 'Director'}\n",
      "{'_id': ObjectId('5f79b38c4f2858acfbadcb32'), 'id': 10, 'name': 'Lana Wachowski', 'born': 1965, 'label': 'Director'}\n",
      "\n",
      " //////////////////AFTER//////\n",
      "{'_id': ObjectId('5f7831fc4f2858acfbadcb1c'), 'id': 1, 'name': 'Charlie Sheen'}\n",
      "{'_id': ObjectId('5f79b2064f2858acfbadcb2d'), 'id': 5, 'name': 'Keanu Reeves', 'born': 1964}\n",
      "{'_id': ObjectId('5f79b2064f2858acfbadcb2f'), 'id': 7, 'name': 'Laurence Fishburne', 'born': 1960}\n",
      "{'_id': ObjectId('5f79b2064f2858acfbadcb30'), 'id': 8, 'name': 'Hugo Weaving', 'born': 1960}\n",
      "{'_id': ObjectId('5f79b38c4f2858acfbadcb31'), 'id': 9, 'name': 'Lilly Wachowski', 'born': 1967, 'label': 'Director'}\n",
      "{'_id': ObjectId('5f79b38c4f2858acfbadcb32'), 'id': 10, 'name': 'Lana Wachowski', 'born': 1965, 'label': 'Director'}\n"
     ]
    }
   ],
   "source": [
    "###YOUR CODE HERE\n",
    "print(\"\\n //////////////////BEFORE//////\")\n",
    "for p in mydb.person.find({}):\n",
    "    print(p)\n",
    "    \n",
    "mydb.person.delete_many({\"name\": {\"$regex\" : 'M.*'}})\n",
    "\n",
    "print(\"\\n //////////////////AFTER//////\")\n",
    "for p in mydb.person.find({}):\n",
    "    print(p)"
   ]
  },
  {
   "cell_type": "markdown",
   "metadata": {},
   "source": [
    "### Task 2: Extend your Mongo-\"MovieDB\" \n",
    "\n",
    "Imagine now that we are going to extend our DB with new movies, actors, even with new directors.\n",
    "\n",
    "- We add <b>**\"The matrix\"**</b> movie which was released in <b> USA, (1999)</b>, and has a new property/field \"Tagline\" <b>(\"Welcome to the Real World\")</b>.\n",
    " \n",
    "- We will also add 4 new actors (Person):\n",
    "    - **\"Keanu Reeves\"** who was born in (1964). <font color='green'>Note:</font> \"born\" property is also new.\n",
    "    - **\"Carrie-Anne Moss\"** who was born in (1967).\n",
    "    - **\"Laurence Fishburne\"** who was born in (1960).\n",
    "    - **\"Hugo Weaving\"** who was born in (1960).\n",
    "    \n",
    "- Moreover, we add 2 directors (Person) :\n",
    "    - **\"Lilly Wachowski\"**, born in (1967)\n",
    "    - **\"Lana Wachowski\"**, born in(1965)\n",
    "- For these directors specify one more label/field as (\"Director\"). (You can add this while inserting the director documents)\n",
    "    \n",
    " \n",
    "- We will also create a new <b>collection \"Directed\" </b> that is directed from the later 2 directors to \"the Matrix\" movie."
   ]
  },
  {
   "cell_type": "markdown",
   "metadata": {},
   "source": [
    "#### Add the Movie \"The Matrix\" with the provided data to the Movies collection"
   ]
  },
  {
   "cell_type": "code",
   "execution_count": 161,
   "metadata": {},
   "outputs": [
    {
     "name": "stdout",
     "output_type": "stream",
     "text": [
      "{'_id': ObjectId('5f7833ed4f2858acfbadcb20'), 'id': 1, 'title': 'Wall Street', 'country': 'USA', 'year': 2000}\n",
      "{'_id': ObjectId('5f7833ed4f2858acfbadcb21'), 'id': 2, 'title': 'The American President', 'country': 'USA', 'year': 1995}\n",
      "{'_id': ObjectId('5f7833ed4f2858acfbadcb22'), 'id': 3, 'title': 'The Shawshank Redemption', 'country': 'USA', 'year': 1994}\n",
      "{'_id': ObjectId('5f79b1d14f2858acfbadcb2c'), 'id': 4, 'title': 'The Matrix', 'country': 'USA', 'year': 1999, 'tagline': 'Welcome to the Real World'}\n"
     ]
    }
   ],
   "source": [
    "for p in mydb.Movies.find({}):\n",
    "    print(p)"
   ]
  },
  {
   "cell_type": "code",
   "execution_count": 160,
   "metadata": {},
   "outputs": [
    {
     "name": "stdout",
     "output_type": "stream",
     "text": [
      "[ObjectId('5f79b1d14f2858acfbadcb2c')]\n"
     ]
    }
   ],
   "source": [
    "###YOUR CODE HERE\n",
    "movieList = [\n",
    "  { \"id\": 4, \"title\": \"The Matrix\", \"country\":\"USA\",\"year\":1999, \n",
    "   \"tagline\":\"Welcome to the Real World\"}\n",
    "]\n",
    "\n",
    "###YOUR CODE HERE\n",
    "movies = moviescoll.insert_many(movieList)\n",
    "print(movies.inserted_ids)"
   ]
  },
  {
   "cell_type": "markdown",
   "metadata": {},
   "source": [
    "#### Insert the new 4 actors to the person collection"
   ]
  },
  {
   "cell_type": "code",
   "execution_count": 162,
   "metadata": {},
   "outputs": [
    {
     "name": "stdout",
     "output_type": "stream",
     "text": [
      "[ObjectId('5f79b2064f2858acfbadcb2d'), ObjectId('5f79b2064f2858acfbadcb2e'), ObjectId('5f79b2064f2858acfbadcb2f'), ObjectId('5f79b2064f2858acfbadcb30')]\n"
     ]
    }
   ],
   "source": [
    "#Notice, How is easy to add a new feild compared to the RDB\n",
    "newActorList = [\n",
    "  { \"id\": 5, \"name\": \"Keanu Reeves\", \"born\":1964 },\n",
    "  { \"id\": 6, \"name\": \"Carrie-Anne Moss\", \"born\":1967},\n",
    "  { \"id\": 7, \"name\": \"Laurence Fishburne\", \"born\":1960},\n",
    "  { \"id\": 8, \"name\": \"Hugo Weaving\", \"born\":1960}\n",
    "]\n",
    "\n",
    "###YOUR CODE HERE\n",
    "actors = person_coll.insert_many(newActorList)\n",
    "print(actors.inserted_ids)"
   ]
  },
  {
   "cell_type": "code",
   "execution_count": 165,
   "metadata": {},
   "outputs": [
    {
     "name": "stdout",
     "output_type": "stream",
     "text": [
      "{'_id': ObjectId('5f7831fc4f2858acfbadcb1c'), 'id': 1, 'name': 'Charlie Sheen'}\n",
      "{'_id': ObjectId('5f79adbf4f2858acfbadcb29'), 'id': 2, 'name': 'Michael Douglas'}\n",
      "{'_id': ObjectId('5f79adbf4f2858acfbadcb2a'), 'id': 3, 'name': 'Martin Sheen'}\n",
      "{'_id': ObjectId('5f79adbf4f2858acfbadcb2b'), 'id': 4, 'name': 'Morgan Freeman'}\n",
      "{'_id': ObjectId('5f79b2064f2858acfbadcb2d'), 'id': 5, 'name': 'Keanu Reeves', 'born': 1964}\n",
      "{'_id': ObjectId('5f79b2064f2858acfbadcb2e'), 'id': 6, 'name': 'Carrie-Anne Moss', 'born': 1967}\n",
      "{'_id': ObjectId('5f79b2064f2858acfbadcb2f'), 'id': 7, 'name': 'Laurence Fishburne', 'born': 1960}\n",
      "{'_id': ObjectId('5f79b2064f2858acfbadcb30'), 'id': 8, 'name': 'Hugo Weaving', 'born': 1960}\n",
      "{'_id': ObjectId('5f79b38c4f2858acfbadcb31'), 'id': 9, 'name': 'Lilly Wachowski', 'born': 1967, 'label': 'Director'}\n",
      "{'_id': ObjectId('5f79b38c4f2858acfbadcb32'), 'id': 10, 'name': 'Lana Wachowski', 'born': 1965, 'label': 'Director'}\n"
     ]
    }
   ],
   "source": [
    "for p in mydb.person.find({}):\n",
    "    print(p)"
   ]
  },
  {
   "cell_type": "markdown",
   "metadata": {},
   "source": [
    "#### Insert the new 2 directors to the person collection"
   ]
  },
  {
   "cell_type": "code",
   "execution_count": 164,
   "metadata": {},
   "outputs": [
    {
     "name": "stdout",
     "output_type": "stream",
     "text": [
      "[ObjectId('5f79b38c4f2858acfbadcb31'), ObjectId('5f79b38c4f2858acfbadcb32')]\n"
     ]
    }
   ],
   "source": [
    "###YOUR CODE HERE\n",
    "newDirectorsList = [\n",
    "  { \"id\": 9, \"name\": \"Lilly Wachowski\", \"born\":1967, \"label\": \"Director\" },\n",
    "  { \"id\": 10, \"name\": \"Lana Wachowski\", \"born\":1965, \"label\": \"Director\"}\n",
    "]\n",
    "\n",
    "###YOUR CODE HERE\n",
    "directors = person_coll.insert_many(newDirectorsList)\n",
    "print(directors.inserted_ids)"
   ]
  },
  {
   "cell_type": "markdown",
   "metadata": {},
   "source": [
    "#### Create the \"Directed\" collection, and insert the data into it "
   ]
  },
  {
   "cell_type": "code",
   "execution_count": 166,
   "metadata": {},
   "outputs": [
    {
     "data": {
      "text/plain": [
       "<pymongo.results.InsertManyResult at 0x10ddeb8c8>"
      ]
     },
     "execution_count": 166,
     "metadata": {},
     "output_type": "execute_result"
    }
   ],
   "source": [
    "###YOUR CODE HERE\n",
    "directed_coll = mydb[\"Directed\"]\n",
    "\n",
    "directedList = [\n",
    "  { \"personId\": 9, \"movieId\": \"4\" },\n",
    "  { \"personId\": 10, \"movieId\": \"4\"}\n",
    "]\n",
    "\n",
    "directed_coll.insert_many(directedList)"
   ]
  },
  {
   "cell_type": "markdown",
   "metadata": {},
   "source": [
    "#### Get only the directors from the person collection (i.e. persons marked with the label \"Director\")"
   ]
  },
  {
   "cell_type": "code",
   "execution_count": 167,
   "metadata": {},
   "outputs": [
    {
     "name": "stdout",
     "output_type": "stream",
     "text": [
      "{'_id': ObjectId('5f79b38c4f2858acfbadcb31'), 'id': 9, 'name': 'Lilly Wachowski', 'born': 1967, 'label': 'Director'}\n",
      "{'_id': ObjectId('5f79b38c4f2858acfbadcb32'), 'id': 10, 'name': 'Lana Wachowski', 'born': 1965, 'label': 'Director'}\n"
     ]
    }
   ],
   "source": [
    "###YOUR CODE HERE\n",
    "only_directors = mydb.person.find({\"label\": \"Director\"})\n",
    "\n",
    "for p in only_directors:\n",
    "    print(p)"
   ]
  },
  {
   "cell_type": "markdown",
   "metadata": {},
   "source": [
    "#### Perform a query that get persons (names, and born year) who Directed \"The Matrix\" movie."
   ]
  },
  {
   "cell_type": "code",
   "execution_count": 169,
   "metadata": {},
   "outputs": [
    {
     "name": "stdout",
     "output_type": "stream",
     "text": [
      "{'name': 'Lilly Wachowski', 'born': 1967}\n",
      "{'name': 'Lana Wachowski', 'born': 1965}\n"
     ]
    }
   ],
   "source": [
    "###YOUR CODE HERE\n",
    "the_matrix_directors = mydb.person.find({\"label\":\"Director\"}, {\"name\":1, \"born\":1, \"_id\":0}) \n",
    "\n",
    "for d in the_matrix_directors:\n",
    "    print(d)"
   ]
  },
  {
   "cell_type": "markdown",
   "metadata": {},
   "source": [
    " ## How long did it take you to solve the homework?\n",
    " \n",
    "Please answer as precisely as you can. It does not affect your points or grade in any way. It is okey, if it took 0.5 hours or 24 hours. The collected information will be used to improve future homeworks."
   ]
  },
  {
   "cell_type": "markdown",
   "metadata": {},
   "source": [
    "<font color=\"red\"><b>Answer:</b></font>\n",
    "7 hours"
   ]
  },
  {
   "cell_type": "markdown",
   "metadata": {},
   "source": [
    "**<center> <font color='red'>THANK YOU FOR YOUR EFFORT!</font></center>**"
   ]
  }
 ],
 "metadata": {
  "kernelspec": {
   "display_name": "Python 3",
   "language": "python",
   "name": "python3"
  },
  "language_info": {
   "codemirror_mode": {
    "name": "ipython",
    "version": 3
   },
   "file_extension": ".py",
   "mimetype": "text/x-python",
   "name": "python",
   "nbconvert_exporter": "python",
   "pygments_lexer": "ipython3",
   "version": "3.6.7"
  }
 },
 "nbformat": 4,
 "nbformat_minor": 2
}
